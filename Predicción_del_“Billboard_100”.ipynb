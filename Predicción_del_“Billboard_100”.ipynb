{
  "nbformat": 4,
  "nbformat_minor": 0,
  "metadata": {
    "kernelspec": {
      "display_name": "Python 3",
      "language": "python",
      "name": "python3"
    },
    "language_info": {
      "codemirror_mode": {
        "name": "ipython",
        "version": 3
      },
      "file_extension": ".py",
      "mimetype": "text/x-python",
      "name": "python",
      "nbconvert_exporter": "python",
      "pygments_lexer": "ipython3",
      "version": "3.8.3"
    },
    "colab": {
      "name": "Predicción_del_“Billboard_100”.ipynb",
      "provenance": [],
      "collapsed_sections": [
        "VPjQDpF-nETh"
      ]
    }
  },
  "cells": [
    {
      "cell_type": "markdown",
      "metadata": {
        "id": "9GtfvNV2XeCQ"
      },
      "source": [
        "<div style=\"text-align: center\">\n",
        "<h2><font color=\"#004D7F\" size=6>POROYECTO FINAL</font></h2>\n",
        "<h1></h1>\n",
        "\n",
        "<div style=\"text-align: center\">\n",
        "<font color=\"#004D7F\" size=5>Curso: Inteligencia Artificial</font><br>\n",
        "<font color=\"#004D7F\" size=5>Docente: Juan Villegas Cubas</font><br>\n",
        "<font color=\"#004D7F\" size=5>Alumon: Sandoval Chapoñan Anderson</font><br>\n",
        "\n",
        "<br><br>\n",
        "<div style=\"text-align: right\">\n",
        "<font color=\"#004D7F\" size=3>Junio 2021</font><br>\n",
        " \n",
        " \n",
        "     \n",
        "     "
      ]
    },
    {
      "cell_type": "markdown",
      "metadata": {
        "id": "dHNuGPt3XeCv"
      },
      "source": [
        "**INTRODUCCIÓN**\n",
        "\n",
        "El Billboard Hot 100 es una gran lista de éxitos musicales de los 100 sencillos más vendidos en Estados Unidos, que ayuda a promover la industria musical nacional e internacional, y se define como la más importante de las listas de Billboard junto con la Billboard 200. La publicación del ranking Hot 100 se realiza semanalmente a través de la revista Billboard, y también vía Internet.\n",
        "\n",
        "En el siguiente código se pretende análisar diversos datos de atributos de cantantes y de un histórico de canciones que alcanzaron entrar al Billboard Hot 100 (U.S.) en 2013 y 2014. \n",
        "\n",
        "**OBJETIVO**\n",
        "\n",
        "Es en el mejor algoritmo que nos permita intentar predecir si un nuevo cantante podrá llegar a número uno de la lista Billboard Hot 100. \n",
        "\n",
        "**DATOS**\n",
        "\n",
        "Vemos que tenemos: Titulo de la canción, artista “mood” ó estado de ánimo de esa canción, tempo, género, Tipo de artista, fecha en que apareció en el billboard (por ejemplo 20140628 equivale al 28 de junio de 2014), la columna TOP será nuestra etiqueta, en la que aparece 1 si llegó al número uno de Billboard ó 0 si no lo alcanzó y el año de Nacimiento del artista. Vemos que muchas de las columnas contienen información categórica. La columna durationSeg contiene la duración en segundos de la canción, siendo un valor continuo pero que nos convendrá pasar a categórico más adelante. \n",
        "    "
      ]
    },
    {
      "cell_type": "code",
      "metadata": {
        "id": "ig0c4xzMXeC1"
      },
      "source": [
        "# Importamos las librerias necesarias\n",
        "import numpy as np\n",
        "import pandas as pd\n",
        "import seaborn as sb\n",
        "import matplotlib.pyplot as plt\n",
        "%matplotlib inline\n",
        "import seaborn as sns\n",
        "plt.rcParams['figure.figsize'] = (16, 9)\n",
        "plt.style.use('ggplot')\n",
        "import warnings\n",
        "warnings.filterwarnings('ignore')\n",
        "from sklearn import tree\n",
        "from sklearn.metrics import accuracy_score\n",
        "from sklearn.model_selection import KFold\n",
        "from sklearn.model_selection import cross_val_score\n",
        "from IPython.display import Image as PImage\n",
        "from subprocess import check_call\n",
        "from PIL import Image, ImageDraw, ImageFont\n",
        "from sklearn.model_selection import train_test_split\n",
        "url='https://raw.githubusercontent.com/AndersonSCH/DataBillboard/Datos/artists_billboard_fix3.csv'"
      ],
      "execution_count": null,
      "outputs": []
    },
    {
      "cell_type": "markdown",
      "metadata": {
        "id": "k5BVBUq5S8P5"
      },
      "source": [
        "<a id=\"section1\"></a>\n",
        "# <font color=\"#004D7F\"> Estadistica Descriptiva de los datos\n",
        "\n",
        "\n"
      ]
    },
    {
      "cell_type": "markdown",
      "metadata": {
        "id": "jJqZKP1STwL3"
      },
      "source": [
        "<a id=\"section11\"></a>\n",
        "## <font color=\"#004D7F\"> Cargar el conjunto de datos</font>"
      ]
    },
    {
      "cell_type": "markdown",
      "metadata": {
        "id": "fFo0YmL6XeC5"
      },
      "source": [
        "Análisis Exploratorio Inicial"
      ]
    },
    {
      "cell_type": "code",
      "metadata": {
        "id": "0UX3lng1XeC7"
      },
      "source": [
        "artists_billboard = pd.read_csv(r'https://raw.githubusercontent.com/AndersonSCH/DataBillboard/Datos/artists_billboard_fix3.csv')"
      ],
      "execution_count": null,
      "outputs": []
    },
    {
      "cell_type": "code",
      "metadata": {
        "colab": {
          "base_uri": "https://localhost:8080/"
        },
        "id": "a49_6nIwcO5t",
        "outputId": "e0c8d5c0-0eeb-4687-9952-2694ceefad28"
      },
      "source": [
        "print(list(artists_billboard))"
      ],
      "execution_count": null,
      "outputs": [
        {
          "output_type": "stream",
          "text": [
            "['id', 'title', 'artist', 'mood', 'tempo', 'genre', 'artist_type', 'chart_date', 'durationSeg', 'top', 'anioNacimiento']\n"
          ],
          "name": "stdout"
        }
      ]
    },
    {
      "cell_type": "markdown",
      "metadata": {
        "id": "3jFX_0K9T7Iz"
      },
      "source": [
        "<a id=\"section12\"></a>\n",
        "## <font color=\"#004D7F\">Revisar los datos: _head()_ </font>"
      ]
    },
    {
      "cell_type": "code",
      "metadata": {
        "colab": {
          "base_uri": "https://localhost:8080/"
        },
        "id": "tvPfr1QbXeC8",
        "outputId": "b2c52c26-01fe-4d83-81f5-fc4bd8eab651"
      },
      "source": [
        "artists_billboard.shape"
      ],
      "execution_count": null,
      "outputs": [
        {
          "output_type": "execute_result",
          "data": {
            "text/plain": [
              "(635, 11)"
            ]
          },
          "metadata": {
            "tags": []
          },
          "execution_count": 303
        }
      ]
    },
    {
      "cell_type": "code",
      "metadata": {
        "colab": {
          "base_uri": "https://localhost:8080/"
        },
        "id": "Fslw1EZJ-g-I",
        "outputId": "eec16f73-9792-48ad-c6e9-1f1ee25245d9"
      },
      "source": [
        "print(type(artists_billboard))"
      ],
      "execution_count": null,
      "outputs": [
        {
          "output_type": "stream",
          "text": [
            "<class 'pandas.core.frame.DataFrame'>\n"
          ],
          "name": "stdout"
        }
      ]
    },
    {
      "cell_type": "markdown",
      "metadata": {
        "id": "VmnsL3omY29p"
      },
      "source": [
        "<a id=\"section15\"></a>\n",
        "## <font color=\"#004D7F\">Distribución entre clases: _groupby('class').size()_ </font>"
      ]
    },
    {
      "cell_type": "markdown",
      "metadata": {
        "id": "4ikNB5PtXeDD"
      },
      "source": [
        "¿Cuántos alcanzaron el número 1?"
      ]
    },
    {
      "cell_type": "code",
      "metadata": {
        "colab": {
          "base_uri": "https://localhost:8080/"
        },
        "id": "viW0PxNQXeDE",
        "outputId": "a9606cc1-7467-46e8-b02b-6052c4db6461"
      },
      "source": [
        "artists_billboard.groupby('top').size()"
      ],
      "execution_count": null,
      "outputs": [
        {
          "output_type": "execute_result",
          "data": {
            "text/plain": [
              "top\n",
              "0    494\n",
              "1    141\n",
              "dtype: int64"
            ]
          },
          "metadata": {
            "tags": []
          },
          "execution_count": 3
        }
      ]
    },
    {
      "cell_type": "markdown",
      "metadata": {
        "id": "YkzrpZaTCRJd"
      },
      "source": [
        "Esto nos devuelve (635,11) es decir que tenemos 11 columnas (features) y 635 filas de datos."
      ]
    },
    {
      "cell_type": "code",
      "metadata": {
        "colab": {
          "base_uri": "https://localhost:8080/",
          "height": 360
        },
        "id": "nE6VC4RMXeDB",
        "outputId": "b8e098dc-58d3-411f-f55d-baff847f9b72"
      },
      "source": [
        "artists_billboard.head()"
      ],
      "execution_count": null,
      "outputs": [
        {
          "output_type": "execute_result",
          "data": {
            "text/html": [
              "<div>\n",
              "<style scoped>\n",
              "    .dataframe tbody tr th:only-of-type {\n",
              "        vertical-align: middle;\n",
              "    }\n",
              "\n",
              "    .dataframe tbody tr th {\n",
              "        vertical-align: top;\n",
              "    }\n",
              "\n",
              "    .dataframe thead th {\n",
              "        text-align: right;\n",
              "    }\n",
              "</style>\n",
              "<table border=\"1\" class=\"dataframe\">\n",
              "  <thead>\n",
              "    <tr style=\"text-align: right;\">\n",
              "      <th></th>\n",
              "      <th>id</th>\n",
              "      <th>title</th>\n",
              "      <th>artist</th>\n",
              "      <th>mood</th>\n",
              "      <th>tempo</th>\n",
              "      <th>genre</th>\n",
              "      <th>artist_type</th>\n",
              "      <th>chart_date</th>\n",
              "      <th>durationSeg</th>\n",
              "      <th>top</th>\n",
              "      <th>anioNacimiento</th>\n",
              "      <th>edad_en_billboard</th>\n",
              "      <th>moodEncoded</th>\n",
              "      <th>tempoEncoded</th>\n",
              "      <th>genreEncoded</th>\n",
              "      <th>artist_typeEncoded</th>\n",
              "      <th>edadEncoded</th>\n",
              "      <th>durationEncoded</th>\n",
              "    </tr>\n",
              "  </thead>\n",
              "  <tbody>\n",
              "    <tr>\n",
              "      <th>0</th>\n",
              "      <td>0</td>\n",
              "      <td>Small Town Throwdown</td>\n",
              "      <td>BRANTLEY GILBERT featuring JUSTIN MOORE &amp; THOM...</td>\n",
              "      <td>Brooding</td>\n",
              "      <td>Medium Tempo</td>\n",
              "      <td>Traditional</td>\n",
              "      <td>Male</td>\n",
              "      <td>20140628</td>\n",
              "      <td>191.0</td>\n",
              "      <td>0</td>\n",
              "      <td>1975.0</td>\n",
              "      <td>39</td>\n",
              "      <td>4</td>\n",
              "      <td>2</td>\n",
              "      <td>2</td>\n",
              "      <td>3</td>\n",
              "      <td>3.0</td>\n",
              "      <td>2.0</td>\n",
              "    </tr>\n",
              "    <tr>\n",
              "      <th>1</th>\n",
              "      <td>1</td>\n",
              "      <td>Bang Bang</td>\n",
              "      <td>JESSIE J, ARIANA GRANDE &amp; NICKI MINAJ</td>\n",
              "      <td>Energizing</td>\n",
              "      <td>Medium Tempo</td>\n",
              "      <td>Pop</td>\n",
              "      <td>Female</td>\n",
              "      <td>20140816</td>\n",
              "      <td>368.0</td>\n",
              "      <td>0</td>\n",
              "      <td>1989.0</td>\n",
              "      <td>25</td>\n",
              "      <td>6</td>\n",
              "      <td>2</td>\n",
              "      <td>3</td>\n",
              "      <td>2</td>\n",
              "      <td>1.0</td>\n",
              "      <td>6.0</td>\n",
              "    </tr>\n",
              "    <tr>\n",
              "      <th>2</th>\n",
              "      <td>2</td>\n",
              "      <td>Timber</td>\n",
              "      <td>PITBULL featuring KE$HA</td>\n",
              "      <td>Excited</td>\n",
              "      <td>Medium Tempo</td>\n",
              "      <td>Urban</td>\n",
              "      <td>Mixed</td>\n",
              "      <td>20140118</td>\n",
              "      <td>223.0</td>\n",
              "      <td>1</td>\n",
              "      <td>1993.0</td>\n",
              "      <td>21</td>\n",
              "      <td>5</td>\n",
              "      <td>2</td>\n",
              "      <td>4</td>\n",
              "      <td>1</td>\n",
              "      <td>0.0</td>\n",
              "      <td>3.0</td>\n",
              "    </tr>\n",
              "    <tr>\n",
              "      <th>3</th>\n",
              "      <td>3</td>\n",
              "      <td>Sweater Weather</td>\n",
              "      <td>THE NEIGHBOURHOOD</td>\n",
              "      <td>Brooding</td>\n",
              "      <td>Medium Tempo</td>\n",
              "      <td>Alternative &amp; Punk</td>\n",
              "      <td>Male</td>\n",
              "      <td>20140104</td>\n",
              "      <td>206.0</td>\n",
              "      <td>0</td>\n",
              "      <td>1989.0</td>\n",
              "      <td>25</td>\n",
              "      <td>4</td>\n",
              "      <td>2</td>\n",
              "      <td>1</td>\n",
              "      <td>3</td>\n",
              "      <td>1.0</td>\n",
              "      <td>2.0</td>\n",
              "    </tr>\n",
              "    <tr>\n",
              "      <th>4</th>\n",
              "      <td>4</td>\n",
              "      <td>Automatic</td>\n",
              "      <td>MIRANDA LAMBERT</td>\n",
              "      <td>Yearning</td>\n",
              "      <td>Medium Tempo</td>\n",
              "      <td>Traditional</td>\n",
              "      <td>Female</td>\n",
              "      <td>20140301</td>\n",
              "      <td>232.0</td>\n",
              "      <td>0</td>\n",
              "      <td>NaN</td>\n",
              "      <td>30</td>\n",
              "      <td>4</td>\n",
              "      <td>2</td>\n",
              "      <td>2</td>\n",
              "      <td>2</td>\n",
              "      <td>2.0</td>\n",
              "      <td>3.0</td>\n",
              "    </tr>\n",
              "  </tbody>\n",
              "</table>\n",
              "</div>"
            ],
            "text/plain": [
              "   id                 title  ... edadEncoded durationEncoded\n",
              "0   0  Small Town Throwdown  ...         3.0             2.0\n",
              "1   1             Bang Bang  ...         1.0             6.0\n",
              "2   2                Timber  ...         0.0             3.0\n",
              "3   3       Sweater Weather  ...         1.0             2.0\n",
              "4   4             Automatic  ...         2.0             3.0\n",
              "\n",
              "[5 rows x 18 columns]"
            ]
          },
          "metadata": {
            "tags": []
          },
          "execution_count": 131
        }
      ]
    },
    {
      "cell_type": "markdown",
      "metadata": {
        "id": "RW2-6trjUeLc"
      },
      "source": [
        "<a id=\"section13\"></a>\n",
        "## <font color=\"#004D7F\">Tipo de datos: _dtypes_ </font>"
      ]
    },
    {
      "cell_type": "code",
      "metadata": {
        "colab": {
          "base_uri": "https://localhost:8080/"
        },
        "id": "Bg32uRVLUlsE",
        "outputId": "e4d47628-1fa5-4189-a437-654b0f3bfce4"
      },
      "source": [
        "artists_billboard.dtypes"
      ],
      "execution_count": null,
      "outputs": [
        {
          "output_type": "execute_result",
          "data": {
            "text/plain": [
              "id                  int64\n",
              "title              object\n",
              "artist             object\n",
              "mood               object\n",
              "tempo              object\n",
              "genre              object\n",
              "artist_type        object\n",
              "chart_date          int64\n",
              "durationSeg       float64\n",
              "top                 int64\n",
              "anioNacimiento    float64\n",
              "dtype: object"
            ]
          },
          "metadata": {
            "tags": []
          },
          "execution_count": 7
        }
      ]
    },
    {
      "cell_type": "code",
      "metadata": {
        "colab": {
          "base_uri": "https://localhost:8080/"
        },
        "id": "FHKvIvlRonPG",
        "outputId": "6892e6be-d67c-4286-e80b-a9210c697991"
      },
      "source": [
        "#comprobar los valores perdidos\n",
        "data.isnull().sum()"
      ],
      "execution_count": null,
      "outputs": [
        {
          "output_type": "execute_result",
          "data": {
            "text/plain": [
              "top                   0\n",
              "moodEncoded           0\n",
              "tempoEncoded          0\n",
              "genreEncoded          0\n",
              "artist_typeEncoded    0\n",
              "edadEncoded           0\n",
              "durationEncoded       0\n",
              "dtype: int64"
            ]
          },
          "metadata": {
            "tags": []
          },
          "execution_count": 32
        }
      ]
    },
    {
      "cell_type": "markdown",
      "metadata": {
        "id": "jrDPRX6WgtFs"
      },
      "source": [
        "<a id=\"section14\"></a>\n",
        "## <font color=\"#004D7F\">Resumen: _describe()_ </font>"
      ]
    },
    {
      "cell_type": "markdown",
      "metadata": {
        "id": "y76fE0TPVPRi"
      },
      "source": [
        ""
      ]
    },
    {
      "cell_type": "code",
      "metadata": {
        "colab": {
          "base_uri": "https://localhost:8080/",
          "height": 297
        },
        "id": "RNMcX4cZVYBR",
        "outputId": "4697740d-8710-473e-b99c-23700d08c47f"
      },
      "source": [
        "artists_billboard.describe()"
      ],
      "execution_count": null,
      "outputs": [
        {
          "output_type": "execute_result",
          "data": {
            "text/html": [
              "<div>\n",
              "<style scoped>\n",
              "    .dataframe tbody tr th:only-of-type {\n",
              "        vertical-align: middle;\n",
              "    }\n",
              "\n",
              "    .dataframe tbody tr th {\n",
              "        vertical-align: top;\n",
              "    }\n",
              "\n",
              "    .dataframe thead th {\n",
              "        text-align: right;\n",
              "    }\n",
              "</style>\n",
              "<table border=\"1\" class=\"dataframe\">\n",
              "  <thead>\n",
              "    <tr style=\"text-align: right;\">\n",
              "      <th></th>\n",
              "      <th>id</th>\n",
              "      <th>chart_date</th>\n",
              "      <th>durationSeg</th>\n",
              "      <th>top</th>\n",
              "      <th>anioNacimiento</th>\n",
              "    </tr>\n",
              "  </thead>\n",
              "  <tbody>\n",
              "    <tr>\n",
              "      <th>count</th>\n",
              "      <td>635.000000</td>\n",
              "      <td>6.350000e+02</td>\n",
              "      <td>635.000000</td>\n",
              "      <td>635.000000</td>\n",
              "      <td>635.000000</td>\n",
              "    </tr>\n",
              "    <tr>\n",
              "      <th>mean</th>\n",
              "      <td>317.000000</td>\n",
              "      <td>2.013036e+07</td>\n",
              "      <td>321.768504</td>\n",
              "      <td>0.222047</td>\n",
              "      <td>1548.590551</td>\n",
              "    </tr>\n",
              "    <tr>\n",
              "      <th>std</th>\n",
              "      <td>183.452991</td>\n",
              "      <td>2.617996e+04</td>\n",
              "      <td>633.753787</td>\n",
              "      <td>0.415950</td>\n",
              "      <td>820.470454</td>\n",
              "    </tr>\n",
              "    <tr>\n",
              "      <th>min</th>\n",
              "      <td>0.000000</td>\n",
              "      <td>2.004021e+07</td>\n",
              "      <td>0.000000</td>\n",
              "      <td>0.000000</td>\n",
              "      <td>0.000000</td>\n",
              "    </tr>\n",
              "    <tr>\n",
              "      <th>25%</th>\n",
              "      <td>158.500000</td>\n",
              "      <td>2.014010e+07</td>\n",
              "      <td>200.000000</td>\n",
              "      <td>0.000000</td>\n",
              "      <td>1969.000000</td>\n",
              "    </tr>\n",
              "    <tr>\n",
              "      <th>50%</th>\n",
              "      <td>317.000000</td>\n",
              "      <td>2.014051e+07</td>\n",
              "      <td>232.000000</td>\n",
              "      <td>0.000000</td>\n",
              "      <td>1981.000000</td>\n",
              "    </tr>\n",
              "    <tr>\n",
              "      <th>75%</th>\n",
              "      <td>475.500000</td>\n",
              "      <td>2.014101e+07</td>\n",
              "      <td>266.500000</td>\n",
              "      <td>0.000000</td>\n",
              "      <td>1986.000000</td>\n",
              "    </tr>\n",
              "    <tr>\n",
              "      <th>max</th>\n",
              "      <td>634.000000</td>\n",
              "      <td>2.015031e+07</td>\n",
              "      <td>6840.000000</td>\n",
              "      <td>1.000000</td>\n",
              "      <td>1999.000000</td>\n",
              "    </tr>\n",
              "  </tbody>\n",
              "</table>\n",
              "</div>"
            ],
            "text/plain": [
              "               id    chart_date  durationSeg         top  anioNacimiento\n",
              "count  635.000000  6.350000e+02   635.000000  635.000000      635.000000\n",
              "mean   317.000000  2.013036e+07   321.768504    0.222047     1548.590551\n",
              "std    183.452991  2.617996e+04   633.753787    0.415950      820.470454\n",
              "min      0.000000  2.004021e+07     0.000000    0.000000        0.000000\n",
              "25%    158.500000  2.014010e+07   200.000000    0.000000     1969.000000\n",
              "50%    317.000000  2.014051e+07   232.000000    0.000000     1981.000000\n",
              "75%    475.500000  2.014101e+07   266.500000    0.000000     1986.000000\n",
              "max    634.000000  2.015031e+07  6840.000000    1.000000     1999.000000"
            ]
          },
          "metadata": {
            "tags": []
          },
          "execution_count": 9
        }
      ]
    },
    {
      "cell_type": "markdown",
      "metadata": {
        "id": "1BoTc-_ggAYD"
      },
      "source": [
        "\n",
        "<a id=\"section14\"></a>\n",
        "## <font color=\"#004D7F\">Trazar relaciones en el conjunto de datos</font>\n",
        "\n"
      ]
    },
    {
      "cell_type": "markdown",
      "metadata": {
        "id": "S2cNdw5KgGNm"
      },
      "source": [
        "Hay diferentes formas de mostrar las relaciones mediante un conjunto de datos. Puede usar parcelas de pares, parcelas conjuntas, correlaciones, etc. que usaremos \"pairplot\" para averiguar las relaciones en el conjunto de datos."
      ]
    },
    {
      "cell_type": "markdown",
      "metadata": {
        "id": "0WbHBW2cXeDG"
      },
      "source": [
        "Visualizamos esta diferencia:"
      ]
    },
    {
      "cell_type": "code",
      "metadata": {
        "colab": {
          "base_uri": "https://localhost:8080/",
          "height": 457
        },
        "id": "9zqSR-I4XeDH",
        "outputId": "1fc3db2b-1f9a-43c8-9e7e-6a0b553c44f8"
      },
      "source": [
        "sb.catplot('top',data=artists_billboard,kind=\"count\")"
      ],
      "execution_count": null,
      "outputs": [
        {
          "output_type": "stream",
          "text": [
            "/usr/local/lib/python3.7/dist-packages/seaborn/_decorators.py:43: FutureWarning: Pass the following variable as a keyword arg: x. From version 0.12, the only valid positional argument will be `data`, and passing other arguments without an explicit keyword will result in an error or misinterpretation.\n",
            "  FutureWarning\n"
          ],
          "name": "stderr"
        },
        {
          "output_type": "execute_result",
          "data": {
            "text/plain": [
              "<seaborn.axisgrid.FacetGrid at 0x7fd97e574a90>"
            ]
          },
          "metadata": {
            "tags": []
          },
          "execution_count": 20
        },
        {
          "output_type": "display_data",
          "data": {
            "image/png": "[encoded data removed]",
            "text/plain": [
              "<Figure size 360x360 with 1 Axes>"
            ]
          },
          "metadata": {
            "tags": []
          }
        }
      ]
    },
    {
      "cell_type": "markdown",
      "metadata": {
        "id": "J82bIw05XeDJ"
      },
      "source": [
        "Visualicemos los Atributos de entrada"
      ]
    },
    {
      "cell_type": "code",
      "metadata": {
        "colab": {
          "base_uri": "https://localhost:8080/",
          "height": 457
        },
        "id": "yL9K9gLnXeDL",
        "outputId": "4da62fe7-0d0a-44b8-e595-987db8a2ae64"
      },
      "source": [
        "sb.catplot('artist_type',data=artists_billboard,kind=\"count\")"
      ],
      "execution_count": null,
      "outputs": [
        {
          "output_type": "stream",
          "text": [
            "/usr/local/lib/python3.7/dist-packages/seaborn/_decorators.py:43: FutureWarning: Pass the following variable as a keyword arg: x. From version 0.12, the only valid positional argument will be `data`, and passing other arguments without an explicit keyword will result in an error or misinterpretation.\n",
            "  FutureWarning\n"
          ],
          "name": "stderr"
        },
        {
          "output_type": "execute_result",
          "data": {
            "text/plain": [
              "<seaborn.axisgrid.FacetGrid at 0x7fd97645f610>"
            ]
          },
          "metadata": {
            "tags": []
          },
          "execution_count": 21
        },
        {
          "output_type": "display_data",
          "data": {
            "image/png": "[encoded data removed]",
            "text/plain": [
              "<Figure size 360x360 with 1 Axes>"
            ]
          },
          "metadata": {
            "tags": []
          }
        }
      ]
    },
    {
      "cell_type": "code",
      "metadata": {
        "colab": {
          "base_uri": "https://localhost:8080/",
          "height": 491
        },
        "id": "icr9P_M-bkBy",
        "outputId": "bef10013-cdb4-4689-966a-59fc9ab91374"
      },
      "source": [
        "sb.factorplot('mood',data=artists_billboard,kind=\"count\", aspect=3)"
      ],
      "execution_count": null,
      "outputs": [
        {
          "output_type": "stream",
          "text": [
            "/usr/local/lib/python3.7/dist-packages/seaborn/categorical.py:3714: UserWarning: The `factorplot` function has been renamed to `catplot`. The original name will be removed in a future release. Please update your code. Note that the default `kind` in `factorplot` (`'point'`) has changed `'strip'` in `catplot`.\n",
            "  warnings.warn(msg)\n",
            "/usr/local/lib/python3.7/dist-packages/seaborn/_decorators.py:43: FutureWarning: Pass the following variable as a keyword arg: x. From version 0.12, the only valid positional argument will be `data`, and passing other arguments without an explicit keyword will result in an error or misinterpretation.\n",
            "  FutureWarning\n"
          ],
          "name": "stderr"
        },
        {
          "output_type": "execute_result",
          "data": {
            "text/plain": [
              "<seaborn.axisgrid.FacetGrid at 0x7fd97645f9d0>"
            ]
          },
          "metadata": {
            "tags": []
          },
          "execution_count": 22
        },
        {
          "output_type": "display_data",
          "data": {
            "image/png": "[encoded data removed]",
            "text/plain": [
              "<Figure size 1080x360 with 1 Axes>"
            ]
          },
          "metadata": {
            "tags": []
          }
        }
      ]
    },
    {
      "cell_type": "markdown",
      "metadata": {
        "id": "aDWleGrjCh4m"
      },
      "source": [
        "Vemos que de 23 tipos de Mood, destacan 7 con picos altos. Además notamos que algunos estados de ánimo son similares"
      ]
    },
    {
      "cell_type": "code",
      "metadata": {
        "colab": {
          "base_uri": "https://localhost:8080/"
        },
        "id": "P9p6uIElcpun",
        "outputId": "69664df9-10bc-42f1-de18-10e9075a13e5"
      },
      "source": [
        "artists_billboard.groupby('mood').size()"
      ],
      "execution_count": null,
      "outputs": [
        {
          "output_type": "execute_result",
          "data": {
            "text/plain": [
              "mood\n",
              "Aggressive       11\n",
              "Brooding         14\n",
              "Cool             78\n",
              "Defiant          64\n",
              "Easygoing         4\n",
              "Empowering       88\n",
              "Energizing       71\n",
              "Excited          62\n",
              "Fiery             6\n",
              "Gritty            9\n",
              "Lively            2\n",
              "Melancholy       10\n",
              "Other             1\n",
              "Peaceful          4\n",
              "Romantic          7\n",
              "Rowdy            15\n",
              "Sensual          55\n",
              "Sentimental       7\n",
              "Sophisticated    15\n",
              "Stirring          2\n",
              "Upbeat           12\n",
              "Urgent           30\n",
              "Yearning         68\n",
              "dtype: int64"
            ]
          },
          "metadata": {
            "tags": []
          },
          "execution_count": 23
        }
      ]
    },
    {
      "cell_type": "markdown",
      "metadata": {
        "id": "NF5hjCSfCudR"
      },
      "source": [
        "**estado animico\n",
        "Agresivo 11\n",
        "Cautiverio 14\n",
        "# Fresco 78\n",
        "# Desafiante 64\n",
        "Tranquilo 4\n",
        "# Empoderamiento 88\n",
        "# Energizante 71\n",
        "# Emocionado 62\n",
        "Ardiente 6\n",
        "Arenoso 9\n",
        "Animado 2\n",
        "Melancolía 10\n",
        "Otro 1\n",
        "Pacífica 4\n",
        "Romántico 7\n",
        "Rowdy 15\n",
        "# Sensual 55\n",
        "Sentimental 7\n",
        "Sofisticado 15\n",
        "Revolviendo 2\n",
        "Optimista 12\n",
        "Urgente 30\n",
        "# Anhelo 68"
      ]
    },
    {
      "cell_type": "code",
      "metadata": {
        "colab": {
          "base_uri": "https://localhost:8080/",
          "height": 403
        },
        "id": "0KFjHMGzDEiL",
        "outputId": "77cde48c-b097-4081-e1e1-49641dc09559"
      },
      "source": [
        "sb.factorplot('tempo',data=artists_billboard,hue='top',kind=\"count\")"
      ],
      "execution_count": null,
      "outputs": [
        {
          "output_type": "execute_result",
          "data": {
            "text/plain": [
              "<seaborn.axisgrid.FacetGrid at 0x7f1df06f1990>"
            ]
          },
          "metadata": {
            "tags": []
          },
          "execution_count": 305
        },
        {
          "output_type": "display_data",
          "data": {
            "image/png": "[encoded data removed]",
            "text/plain": [
              "<Figure size 402.375x360 with 1 Axes>"
            ]
          },
          "metadata": {
            "tags": []
          }
        }
      ]
    },
    {
      "cell_type": "markdown",
      "metadata": {
        "id": "VcebJDLBDQ7H"
      },
      "source": [
        "En esta gráfica vemos que hay 3 tipos de Tempo: Medium(medio), Slow(lento) y Fast(rapido). Evidentemente predominan los tiempos Medium y también es donde encontramos más canciones que hayan alcanzado el Top 1 (en azul)\n"
      ]
    },
    {
      "cell_type": "code",
      "metadata": {
        "colab": {
          "base_uri": "https://localhost:8080/",
          "height": 457
        },
        "id": "ERk3-7FaDa1X",
        "outputId": "d89d2f90-6de5-447f-c7f6-efba9c7f6fc8"
      },
      "source": [
        "sb.catplot('genre',data=artists_billboard,hue='top',kind=\"count\", aspect=3)"
      ],
      "execution_count": null,
      "outputs": [
        {
          "output_type": "stream",
          "text": [
            "/usr/local/lib/python3.7/dist-packages/seaborn/_decorators.py:43: FutureWarning: Pass the following variable as a keyword arg: x. From version 0.12, the only valid positional argument will be `data`, and passing other arguments without an explicit keyword will result in an error or misinterpretation.\n",
            "  FutureWarning\n"
          ],
          "name": "stderr"
        },
        {
          "output_type": "execute_result",
          "data": {
            "text/plain": [
              "<seaborn.axisgrid.FacetGrid at 0x7f1df0748510>"
            ]
          },
          "metadata": {
            "tags": []
          },
          "execution_count": 122
        },
        {
          "output_type": "display_data",
          "data": {
            "image/png": "[encoded data removed]",
            "text/plain": [
              "<Figure size 1122.38x360 with 1 Axes>"
            ]
          },
          "metadata": {
            "tags": []
          }
        }
      ]
    },
    {
      "cell_type": "markdown",
      "metadata": {
        "id": "6oIMwpvfDiLG"
      },
      "source": [
        "                        Aqui notamos algo raro: en el año “cero” tenemos cerca de 140 registros\n"
      ]
    },
    {
      "cell_type": "code",
      "metadata": {
        "colab": {
          "base_uri": "https://localhost:8080/",
          "height": 491
        },
        "id": "q-oITtujXeDS",
        "outputId": "1f471575-ef68-4761-a712-15916832bc28"
      },
      "source": [
        "sb.factorplot('anioNacimiento',data=artists_billboard,kind=\"count\", aspect=3)"
      ],
      "execution_count": null,
      "outputs": [
        {
          "output_type": "stream",
          "text": [
            "/usr/local/lib/python3.7/dist-packages/seaborn/categorical.py:3714: UserWarning: The `factorplot` function has been renamed to `catplot`. The original name will be removed in a future release. Please update your code. Note that the default `kind` in `factorplot` (`'point'`) has changed `'strip'` in `catplot`.\n",
            "  warnings.warn(msg)\n",
            "/usr/local/lib/python3.7/dist-packages/seaborn/_decorators.py:43: FutureWarning: Pass the following variable as a keyword arg: x. From version 0.12, the only valid positional argument will be `data`, and passing other arguments without an explicit keyword will result in an error or misinterpretation.\n",
            "  FutureWarning\n"
          ],
          "name": "stderr"
        },
        {
          "output_type": "execute_result",
          "data": {
            "text/plain": [
              "<seaborn.axisgrid.FacetGrid at 0x7fd975ec7950>"
            ]
          },
          "metadata": {
            "tags": []
          },
          "execution_count": 25
        },
        {
          "output_type": "display_data",
          "data": {
            "image/png": "[encoded data removed]",
            "text/plain": [
              "<Figure size 1080x360 with 1 Axes>"
            ]
          },
          "metadata": {
            "tags": []
          }
        }
      ]
    },
    {
      "cell_type": "markdown",
      "metadata": {
        "id": "WKtZz1gVXeDU"
      },
      "source": [
        "                            Aqui notamos algo raro: en el año “cero” tenemos cerca de 140 registros"
      ]
    },
    {
      "cell_type": "markdown",
      "metadata": {
        "id": "bRsONus0XeDV"
      },
      "source": [
        "**Comparemos los Top y los No-top** - **Buscamos si hay alguna relación evidente entre Año y duración de Canción**"
      ]
    },
    {
      "cell_type": "code",
      "metadata": {
        "colab": {
          "base_uri": "https://localhost:8080/",
          "height": 541
        },
        "id": "Q-MAy9wJXeDW",
        "outputId": "73bd3428-7769-4d52-bf69-ddabf78deb50"
      },
      "source": [
        "colores=['orange','blue']\n",
        "tamanios=[60,40]\n",
        "\n",
        "f1 = artists_billboard['anioNacimiento'].values\n",
        "f2 = artists_billboard['durationSeg'].values\n",
        "\n",
        "asignar=[]\n",
        "for index, row in artists_billboard.iterrows():    \n",
        "    asignar.append(colores[row['top']])\n",
        "\n",
        "plt.scatter(f1, f2, c=asignar, s=30)\n",
        "plt.axis([1960,2005,0,600])\n",
        "plt.show()"
      ],
      "execution_count": null,
      "outputs": [
        {
          "output_type": "display_data",
          "data": {
            "image/png": "[encoded data removed]",
            "text/plain": [
              "<Figure size 1152x648 with 1 Axes>"
            ]
          },
          "metadata": {
            "tags": []
          }
        }
      ]
    },
    {
      "cell_type": "markdown",
      "metadata": {
        "id": "SvqPzYDAXeDX"
      },
      "source": [
        "**Arreglar las Edades de Artistas**"
      ]
    },
    {
      "cell_type": "code",
      "metadata": {
        "id": "4VgOAH01XeDY"
      },
      "source": [
        "def edad_fix(anio):\n",
        "    if anio==0:\n",
        "        return None\n",
        "    return anio\n",
        "\n",
        "artists_billboard['anioNacimiento']=artists_billboard.apply(lambda x: edad_fix(x['anioNacimiento']), axis=1);"
      ],
      "execution_count": null,
      "outputs": []
    },
    {
      "cell_type": "code",
      "metadata": {
        "id": "LyBtu0pQXeDZ"
      },
      "source": [
        "def calcula_edad(anio,cuando):\n",
        "    cad = str(cuando)\n",
        "    momento = cad[:4]\n",
        "    if anio==0.0:\n",
        "        return None\n",
        "    return int(momento) - anio\n",
        "\n",
        "artists_billboard['edad_en_billboard']=artists_billboard.apply(lambda x: calcula_edad(x['anioNacimiento'],x['chart_date']), axis=1);"
      ],
      "execution_count": null,
      "outputs": []
    },
    {
      "cell_type": "code",
      "metadata": {
        "colab": {
          "base_uri": "https://localhost:8080/"
        },
        "id": "nttxaFKh-wD6",
        "outputId": "411aa7f9-125a-4dc3-eb0e-d5426b240fe9"
      },
      "source": [
        "print(type(artists_billboard))"
      ],
      "execution_count": null,
      "outputs": [
        {
          "output_type": "stream",
          "text": [
            "<class 'pandas.core.frame.DataFrame'>\n"
          ],
          "name": "stdout"
        }
      ]
    },
    {
      "cell_type": "code",
      "metadata": {
        "colab": {
          "base_uri": "https://localhost:8080/",
          "height": 306
        },
        "id": "dhz5HayFXeDb",
        "outputId": "a0665bbf-c3c6-45fa-a115-29899daab17c"
      },
      "source": [
        "artists_billboard.head()"
      ],
      "execution_count": null,
      "outputs": [
        {
          "output_type": "execute_result",
          "data": {
            "text/html": [
              "<div>\n",
              "<style scoped>\n",
              "    .dataframe tbody tr th:only-of-type {\n",
              "        vertical-align: middle;\n",
              "    }\n",
              "\n",
              "    .dataframe tbody tr th {\n",
              "        vertical-align: top;\n",
              "    }\n",
              "\n",
              "    .dataframe thead th {\n",
              "        text-align: right;\n",
              "    }\n",
              "</style>\n",
              "<table border=\"1\" class=\"dataframe\">\n",
              "  <thead>\n",
              "    <tr style=\"text-align: right;\">\n",
              "      <th></th>\n",
              "      <th>id</th>\n",
              "      <th>title</th>\n",
              "      <th>artist</th>\n",
              "      <th>mood</th>\n",
              "      <th>tempo</th>\n",
              "      <th>genre</th>\n",
              "      <th>artist_type</th>\n",
              "      <th>chart_date</th>\n",
              "      <th>durationSeg</th>\n",
              "      <th>top</th>\n",
              "      <th>anioNacimiento</th>\n",
              "      <th>edad_en_billboard</th>\n",
              "    </tr>\n",
              "  </thead>\n",
              "  <tbody>\n",
              "    <tr>\n",
              "      <th>0</th>\n",
              "      <td>0</td>\n",
              "      <td>Small Town Throwdown</td>\n",
              "      <td>BRANTLEY GILBERT featuring JUSTIN MOORE &amp; THOM...</td>\n",
              "      <td>Brooding</td>\n",
              "      <td>Medium Tempo</td>\n",
              "      <td>Traditional</td>\n",
              "      <td>Male</td>\n",
              "      <td>20140628</td>\n",
              "      <td>191.0</td>\n",
              "      <td>0</td>\n",
              "      <td>1975.0</td>\n",
              "      <td>39.0</td>\n",
              "    </tr>\n",
              "    <tr>\n",
              "      <th>1</th>\n",
              "      <td>1</td>\n",
              "      <td>Bang Bang</td>\n",
              "      <td>JESSIE J, ARIANA GRANDE &amp; NICKI MINAJ</td>\n",
              "      <td>Energizing</td>\n",
              "      <td>Medium Tempo</td>\n",
              "      <td>Pop</td>\n",
              "      <td>Female</td>\n",
              "      <td>20140816</td>\n",
              "      <td>368.0</td>\n",
              "      <td>0</td>\n",
              "      <td>1989.0</td>\n",
              "      <td>25.0</td>\n",
              "    </tr>\n",
              "    <tr>\n",
              "      <th>2</th>\n",
              "      <td>2</td>\n",
              "      <td>Timber</td>\n",
              "      <td>PITBULL featuring KE$HA</td>\n",
              "      <td>Excited</td>\n",
              "      <td>Medium Tempo</td>\n",
              "      <td>Urban</td>\n",
              "      <td>Mixed</td>\n",
              "      <td>20140118</td>\n",
              "      <td>223.0</td>\n",
              "      <td>1</td>\n",
              "      <td>1993.0</td>\n",
              "      <td>21.0</td>\n",
              "    </tr>\n",
              "    <tr>\n",
              "      <th>3</th>\n",
              "      <td>3</td>\n",
              "      <td>Sweater Weather</td>\n",
              "      <td>THE NEIGHBOURHOOD</td>\n",
              "      <td>Brooding</td>\n",
              "      <td>Medium Tempo</td>\n",
              "      <td>Alternative &amp; Punk</td>\n",
              "      <td>Male</td>\n",
              "      <td>20140104</td>\n",
              "      <td>206.0</td>\n",
              "      <td>0</td>\n",
              "      <td>1989.0</td>\n",
              "      <td>25.0</td>\n",
              "    </tr>\n",
              "    <tr>\n",
              "      <th>4</th>\n",
              "      <td>4</td>\n",
              "      <td>Automatic</td>\n",
              "      <td>MIRANDA LAMBERT</td>\n",
              "      <td>Yearning</td>\n",
              "      <td>Medium Tempo</td>\n",
              "      <td>Traditional</td>\n",
              "      <td>Female</td>\n",
              "      <td>20140301</td>\n",
              "      <td>232.0</td>\n",
              "      <td>0</td>\n",
              "      <td>NaN</td>\n",
              "      <td>NaN</td>\n",
              "    </tr>\n",
              "  </tbody>\n",
              "</table>\n",
              "</div>"
            ],
            "text/plain": [
              "   id                 title  ... anioNacimiento edad_en_billboard\n",
              "0   0  Small Town Throwdown  ...         1975.0              39.0\n",
              "1   1             Bang Bang  ...         1989.0              25.0\n",
              "2   2                Timber  ...         1993.0              21.0\n",
              "3   3       Sweater Weather  ...         1989.0              25.0\n",
              "4   4             Automatic  ...            NaN               NaN\n",
              "\n",
              "[5 rows x 12 columns]"
            ]
          },
          "metadata": {
            "tags": []
          },
          "execution_count": 230
        }
      ]
    },
    {
      "cell_type": "markdown",
      "metadata": {
        "id": "fazQiyOYXeDc"
      },
      "source": [
        "**Calculamos promedio de edad y asignamos a los registros Nulos**"
      ]
    },
    {
      "cell_type": "code",
      "metadata": {
        "colab": {
          "base_uri": "https://localhost:8080/"
        },
        "id": "E9_T80PcXeDd",
        "outputId": "803bd043-2063-4452-d62b-87a0f46309fa"
      },
      "source": [
        "age_avg = artists_billboard['edad_en_billboard'].mean()\n",
        "age_std = artists_billboard['edad_en_billboard'].std()\n",
        "age_null_count = artists_billboard['edad_en_billboard'].isnull().sum()\n",
        "age_null_random_list = np.random.randint(age_avg - age_std, age_avg + age_std, size=age_null_count)\n",
        "\n",
        "conValoresNulos = np.isnan(artists_billboard['edad_en_billboard'])\n",
        "\n",
        "artists_billboard.loc[np.isnan(artists_billboard['edad_en_billboard']), 'edad_en_billboard'] = age_null_random_list\n",
        "artists_billboard['edad_en_billboard'] = artists_billboard['edad_en_billboard'].astype(int)\n",
        "print(\"Edad Promedio: \" + str(age_avg))\n",
        "print(\"Desvió Std Edad: \" + str(age_std))\n",
        "print(\"Intervalo para asignar edad aleatoria: \" + str(int(age_avg - age_std)) + \" a \" + str(int(age_avg + age_std)))"
      ],
      "execution_count": null,
      "outputs": [
        {
          "output_type": "stream",
          "text": [
            "Edad Promedio: 30.10282258064516\n",
            "Desvió Std Edad: 8.40078832861513\n",
            "Intervalo para asignar edad aleatoria: 21 a 38\n"
          ],
          "name": "stdout"
        }
      ]
    },
    {
      "cell_type": "markdown",
      "metadata": {
        "id": "huAX2TckXeDf"
      },
      "source": [
        "**Visualizamos las edades que agregamos**"
      ]
    },
    {
      "cell_type": "code",
      "metadata": {
        "colab": {
          "base_uri": "https://localhost:8080/",
          "height": 537
        },
        "id": "tWjoBBmpXeDh",
        "outputId": "00503cc8-9a36-406e-9a2b-5107bece5991"
      },
      "source": [
        "f1 = artists_billboard['edad_en_billboard'].values\n",
        "f2 = artists_billboard.index\n",
        "\n",
        "colores = ['orange','blue','green']\n",
        "\n",
        "asignar=[]\n",
        "for index, row in artists_billboard.iterrows():    \n",
        "    if (conValoresNulos[index]):\n",
        "        asignar.append(colores[2]) # verde\n",
        "    else:\n",
        "        asignar.append(colores[row['top']])\n",
        "\n",
        "plt.scatter(f1, f2, c=asignar, s=30)\n",
        "plt.axis([15,50,0,650])\n",
        "plt.show()"
      ],
      "execution_count": null,
      "outputs": [
        {
          "output_type": "display_data",
          "data": {
            "image/png": "[encoded data removed]",
            "text/plain": [
              "<Figure size 1152x648 with 1 Axes>"
            ]
          },
          "metadata": {
            "tags": []
          }
        }
      ]
    },
    {
      "cell_type": "markdown",
      "metadata": {
        "id": "cMWacbYWXeDj"
      },
      "source": [
        "Realizaremos un mapeo de los atributos de entrada para poder transformarlos a categorias que \n",
        "podamos utilzar "
      ]
    },
    {
      "cell_type": "code",
      "metadata": {
        "colab": {
          "base_uri": "https://localhost:8080/"
        },
        "id": "Rs4cjikhXeDk",
        "outputId": "0486c5cb-d3cb-4c67-bc63-fb1ccee2a231"
      },
      "source": [
        "separador = \"### ### ###\"\n",
        "grouped11 = artists_billboard.groupby('mood').size()#.sum().reset_index()\n",
        "neworder11 = grouped11.sort_values(ascending=False)\n",
        "print(neworder11)\n",
        "print(separador)\n",
        "print(\"Tempos de Canción: \" + str(artists_billboard['tempo'].unique()))\n",
        "print(separador)\n",
        "print(\"Tipos de Artista: \" + str(artists_billboard['artist_type'].unique()))\n",
        "print(separador)\n",
        "grouped11 = artists_billboard.groupby('genre').size()#.sum().reset_index()\n",
        "neworder11 = grouped11.sort_values(ascending=False)\n",
        "print(neworder11)"
      ],
      "execution_count": null,
      "outputs": [
        {
          "output_type": "stream",
          "text": [
            "mood\n",
            "Empowering       88\n",
            "Cool             78\n",
            "Energizing       71\n",
            "Yearning         68\n",
            "Defiant          64\n",
            "Excited          62\n",
            "Sensual          55\n",
            "Urgent           30\n",
            "Sophisticated    15\n",
            "Rowdy            15\n",
            "Brooding         14\n",
            "Upbeat           12\n",
            "Aggressive       11\n",
            "Melancholy       10\n",
            "Gritty            9\n",
            "Romantic          7\n",
            "Sentimental       7\n",
            "Fiery             6\n",
            "Peaceful          4\n",
            "Easygoing         4\n",
            "Lively            2\n",
            "Stirring          2\n",
            "Other             1\n",
            "dtype: int64\n",
            "### ### ###\n",
            "Tempos de Canción: ['Medium Tempo' 'Slow Tempo' 'Fast Tempo']\n",
            "### ### ###\n",
            "Tipos de Artista: ['Male' 'Female' 'Mixed']\n",
            "### ### ###\n",
            "genre\n",
            "Urban                 215\n",
            "Pop                   188\n",
            "Traditional           113\n",
            "Alternative & Punk     60\n",
            "Electronica            27\n",
            "Rock                   13\n",
            "Other                  12\n",
            "Soundtrack              5\n",
            "Jazz                    2\n",
            "dtype: int64\n"
          ],
          "name": "stdout"
        }
      ]
    },
    {
      "cell_type": "code",
      "metadata": {
        "id": "U_DldgkvXeDm"
      },
      "source": [
        "# Mood Mapping \n",
        "artists_billboard['moodEncoded'] = artists_billboard['mood'].map( {'Energizing': 6, \n",
        "                                        'Empowering': 6,\n",
        "                                        'Cool': 5, \n",
        "                                        'Yearning': 4, # anhelo, deseo, ansia\n",
        "                                        'Excited': 5, #emocionado\n",
        "                                        'Defiant': 3, \n",
        "                                        'Sensual': 2, \n",
        "                                        'Gritty': 3, #coraje \n",
        "                                        'Sophisticated': 4,\n",
        "                                        'Aggressive': 4, # provocativo\n",
        "                                        'Fiery': 4, #caracter fuerte\n",
        "                                        'Urgent': 3, \n",
        "                                        'Rowdy': 4, #ruidoso alboroto\n",
        "                                        'Sentimental': 4,\n",
        "                                        'Easygoing': 1, # sencillo\n",
        "                                        'Melancholy': 4, \n",
        "                                        'Romantic': 2, \n",
        "                                        'Peaceful': 1, \n",
        "                                        'Brooding': 4, # melancolico\n",
        "                                        'Upbeat': 5, #optimista alegre\n",
        "                                        'Stirring': 5, #emocionante\n",
        "                                        'Lively': 5, #animado\n",
        "                                        'Other': 0,'':0} ).astype(int)\n",
        "# Tempo Mapping \n",
        "artists_billboard['tempoEncoded'] = artists_billboard['tempo'].map( {'Fast Tempo': 0, 'Medium Tempo': 2, 'Slow Tempo': 1, '': 0} ).astype(int)\n",
        "# Genre Mapping \n",
        "artists_billboard['genreEncoded'] = artists_billboard['genre'].map( {'Urban': 4, \n",
        "                                          'Pop': 3, \n",
        "                                          'Traditional': 2, \n",
        "                                          'Alternative & Punk': 1,\n",
        "                                         'Electronica': 1, \n",
        "                                          'Rock': 1, \n",
        "                                          'Soundtrack': 0, \n",
        "                                          'Jazz': 0,\n",
        "                                          'Other':0,'':0} \n",
        "                                       ).astype(int)\n",
        "# artist_type Mapping \n",
        "artists_billboard['artist_typeEncoded'] = artists_billboard['artist_type'].map( {'Female': 2, 'Male': 3, 'Mixed': 1, '': 0} ).astype(int)\n",
        "\n",
        "\n",
        "# Mapping edad en la que llegaron al billboard\n",
        "artists_billboard.loc[ artists_billboard['edad_en_billboard'] <= 21, 'edadEncoded'] \t\t\t\t\t       = 0\n",
        "artists_billboard.loc[(artists_billboard['edad_en_billboard'] > 21) & (artists_billboard['edad_en_billboard'] <= 26), 'edadEncoded'] = 1\n",
        "artists_billboard.loc[(artists_billboard['edad_en_billboard'] > 26) & (artists_billboard['edad_en_billboard'] <= 30), 'edadEncoded'] = 2\n",
        "artists_billboard.loc[(artists_billboard['edad_en_billboard'] > 30) & (artists_billboard['edad_en_billboard'] <= 40), 'edadEncoded'] = 3\n",
        "artists_billboard.loc[ artists_billboard['edad_en_billboard'] > 40, 'edadEncoded'] = 4\n",
        "\n",
        "# Mapping Song Duration\n",
        "artists_billboard.loc[ artists_billboard['durationSeg'] <= 150, 'durationEncoded'] \t\t\t\t\t       = 0\n",
        "artists_billboard.loc[(artists_billboard['durationSeg'] > 150) & (artists_billboard['durationSeg'] <= 180), 'durationEncoded'] = 1\n",
        "artists_billboard.loc[(artists_billboard['durationSeg'] > 180) & (artists_billboard['durationSeg'] <= 210), 'durationEncoded'] = 2\n",
        "artists_billboard.loc[(artists_billboard['durationSeg'] > 210) & (artists_billboard['durationSeg'] <= 240), 'durationEncoded'] = 3\n",
        "artists_billboard.loc[(artists_billboard['durationSeg'] > 240) & (artists_billboard['durationSeg'] <= 270), 'durationEncoded'] = 4\n",
        "artists_billboard.loc[(artists_billboard['durationSeg'] > 270) & (artists_billboard['durationSeg'] <= 300), 'durationEncoded'] = 5\n",
        "artists_billboard.loc[ artists_billboard['durationSeg'] > 300, 'durationEncoded'] = 6"
      ],
      "execution_count": null,
      "outputs": []
    },
    {
      "cell_type": "markdown",
      "metadata": {
        "id": "zU7B2RtaXeDp"
      },
      "source": [
        "Finalmente obtenemos un nuevo conjunto de datos llamado artists_encoded con el que tenemos los atributos definitivos para crear nuestro árbol. Para ello, quitamos todas las columnas que no necesitamos con “drop”:"
      ]
    },
    {
      "cell_type": "code",
      "metadata": {
        "id": "0NNKmYLnXeDq"
      },
      "source": [
        "drop_elements = ['id','title','artist','mood','tempo','genre','artist_type','chart_date','anioNacimiento','durationSeg','edad_en_billboard']\n",
        "artists_encoded = artists_billboard.drop(drop_elements, axis = 1)"
      ],
      "execution_count": null,
      "outputs": []
    },
    {
      "cell_type": "markdown",
      "metadata": {
        "id": "M5Ph1nYlXeDr"
      },
      "source": [
        "**Analizamos nuestros datos de Entrada Categóricos**"
      ]
    },
    {
      "cell_type": "code",
      "metadata": {
        "colab": {
          "base_uri": "https://localhost:8080/",
          "height": 359
        },
        "id": "STOhxWeOXeDs",
        "outputId": "21d7c2a6-22ec-4cc2-cf53-fbc73b604a56"
      },
      "source": [
        "artists_encoded.head(10)"
      ],
      "execution_count": null,
      "outputs": [
        {
          "output_type": "execute_result",
          "data": {
            "text/html": [
              "<div>\n",
              "<style scoped>\n",
              "    .dataframe tbody tr th:only-of-type {\n",
              "        vertical-align: middle;\n",
              "    }\n",
              "\n",
              "    .dataframe tbody tr th {\n",
              "        vertical-align: top;\n",
              "    }\n",
              "\n",
              "    .dataframe thead th {\n",
              "        text-align: right;\n",
              "    }\n",
              "</style>\n",
              "<table border=\"1\" class=\"dataframe\">\n",
              "  <thead>\n",
              "    <tr style=\"text-align: right;\">\n",
              "      <th></th>\n",
              "      <th>top</th>\n",
              "      <th>moodEncoded</th>\n",
              "      <th>tempoEncoded</th>\n",
              "      <th>genreEncoded</th>\n",
              "      <th>artist_typeEncoded</th>\n",
              "      <th>edadEncoded</th>\n",
              "      <th>durationEncoded</th>\n",
              "    </tr>\n",
              "  </thead>\n",
              "  <tbody>\n",
              "    <tr>\n",
              "      <th>0</th>\n",
              "      <td>0</td>\n",
              "      <td>4</td>\n",
              "      <td>2</td>\n",
              "      <td>2</td>\n",
              "      <td>3</td>\n",
              "      <td>3.0</td>\n",
              "      <td>2.0</td>\n",
              "    </tr>\n",
              "    <tr>\n",
              "      <th>1</th>\n",
              "      <td>0</td>\n",
              "      <td>6</td>\n",
              "      <td>2</td>\n",
              "      <td>3</td>\n",
              "      <td>2</td>\n",
              "      <td>1.0</td>\n",
              "      <td>6.0</td>\n",
              "    </tr>\n",
              "    <tr>\n",
              "      <th>2</th>\n",
              "      <td>1</td>\n",
              "      <td>5</td>\n",
              "      <td>2</td>\n",
              "      <td>4</td>\n",
              "      <td>1</td>\n",
              "      <td>0.0</td>\n",
              "      <td>3.0</td>\n",
              "    </tr>\n",
              "    <tr>\n",
              "      <th>3</th>\n",
              "      <td>0</td>\n",
              "      <td>4</td>\n",
              "      <td>2</td>\n",
              "      <td>1</td>\n",
              "      <td>3</td>\n",
              "      <td>1.0</td>\n",
              "      <td>2.0</td>\n",
              "    </tr>\n",
              "    <tr>\n",
              "      <th>4</th>\n",
              "      <td>0</td>\n",
              "      <td>4</td>\n",
              "      <td>2</td>\n",
              "      <td>2</td>\n",
              "      <td>2</td>\n",
              "      <td>2.0</td>\n",
              "      <td>3.0</td>\n",
              "    </tr>\n",
              "    <tr>\n",
              "      <th>5</th>\n",
              "      <td>0</td>\n",
              "      <td>5</td>\n",
              "      <td>2</td>\n",
              "      <td>2</td>\n",
              "      <td>3</td>\n",
              "      <td>1.0</td>\n",
              "      <td>3.0</td>\n",
              "    </tr>\n",
              "    <tr>\n",
              "      <th>6</th>\n",
              "      <td>1</td>\n",
              "      <td>5</td>\n",
              "      <td>1</td>\n",
              "      <td>4</td>\n",
              "      <td>2</td>\n",
              "      <td>2.0</td>\n",
              "      <td>0.0</td>\n",
              "    </tr>\n",
              "    <tr>\n",
              "      <th>7</th>\n",
              "      <td>0</td>\n",
              "      <td>3</td>\n",
              "      <td>0</td>\n",
              "      <td>3</td>\n",
              "      <td>3</td>\n",
              "      <td>4.0</td>\n",
              "      <td>6.0</td>\n",
              "    </tr>\n",
              "    <tr>\n",
              "      <th>8</th>\n",
              "      <td>0</td>\n",
              "      <td>4</td>\n",
              "      <td>2</td>\n",
              "      <td>4</td>\n",
              "      <td>2</td>\n",
              "      <td>4.0</td>\n",
              "      <td>2.0</td>\n",
              "    </tr>\n",
              "    <tr>\n",
              "      <th>9</th>\n",
              "      <td>0</td>\n",
              "      <td>4</td>\n",
              "      <td>2</td>\n",
              "      <td>1</td>\n",
              "      <td>3</td>\n",
              "      <td>1.0</td>\n",
              "      <td>6.0</td>\n",
              "    </tr>\n",
              "  </tbody>\n",
              "</table>\n",
              "</div>"
            ],
            "text/plain": [
              "   top  moodEncoded  ...  edadEncoded  durationEncoded\n",
              "0    0            4  ...          3.0              2.0\n",
              "1    0            6  ...          1.0              6.0\n",
              "2    1            5  ...          0.0              3.0\n",
              "3    0            4  ...          1.0              2.0\n",
              "4    0            4  ...          2.0              3.0\n",
              "5    0            5  ...          1.0              3.0\n",
              "6    1            5  ...          2.0              0.0\n",
              "7    0            3  ...          4.0              6.0\n",
              "8    0            4  ...          4.0              2.0\n",
              "9    0            4  ...          1.0              6.0\n",
              "\n",
              "[10 rows x 7 columns]"
            ]
          },
          "metadata": {
            "tags": []
          },
          "execution_count": 314
        }
      ]
    },
    {
      "cell_type": "code",
      "metadata": {
        "id": "y_yp5RmcpCwe"
      },
      "source": [
        "lis=(artists_encoded.loc[range(0,len(artists_encoded)),'top'])"
      ],
      "execution_count": null,
      "outputs": []
    },
    {
      "cell_type": "code",
      "metadata": {
        "id": "3pqN1574pGWM"
      },
      "source": [
        "My_Array=[]\n",
        "for i in range(0,len(lis)) :\n",
        "  if lis[i]==0:\n",
        "    My_Array.append(i)"
      ],
      "execution_count": null,
      "outputs": []
    },
    {
      "cell_type": "code",
      "metadata": {
        "colab": {
          "base_uri": "https://localhost:8080/"
        },
        "id": "kHx7Vo__pI2a",
        "outputId": "580e7aed-ee86-414b-a638-fac605004236"
      },
      "source": [
        "print(My_Array)\n",
        "print(len(My_Array))"
      ],
      "execution_count": null,
      "outputs": [
        {
          "output_type": "stream",
          "text": [
            "[0, 1, 3, 4, 5, 7, 8, 9, 11, 12, 13, 14, 16, 17, 18, 19, 20, 21, 24, 25, 26, 27, 28, 30, 31, 32, 33, 34, 35, 36, 37, 38, 39, 42, 43, 45, 46, 48, 50, 52, 53, 54, 55, 56, 57, 58, 59, 61, 62, 63, 64, 65, 66, 69, 70, 71, 72, 73, 74, 76, 78, 79, 81, 82, 84, 85, 86, 87, 88, 90, 91, 92, 93, 94, 97, 98, 99, 100, 101, 103, 104, 105, 107, 108, 109, 110, 111, 112, 113, 114, 115, 117, 118, 119, 123, 124, 126, 127, 128, 129, 130, 131, 134, 135, 136, 137, 138, 139, 141, 142, 143, 144, 145, 146, 147, 148, 152, 153, 154, 155, 156, 158, 159, 160, 162, 163, 164, 165, 166, 167, 169, 170, 171, 172, 173, 174, 177, 178, 180, 181, 183, 184, 186, 187, 188, 189, 190, 191, 192, 193, 194, 195, 197, 198, 199, 200, 201, 202, 203, 204, 205, 206, 209, 210, 211, 213, 214, 216, 217, 218, 219, 220, 221, 222, 223, 224, 225, 226, 227, 228, 229, 230, 231, 232, 233, 234, 236, 237, 238, 239, 240, 241, 242, 243, 244, 245, 246, 248, 249, 250, 251, 253, 254, 255, 257, 259, 260, 261, 262, 263, 264, 265, 266, 268, 269, 270, 271, 272, 273, 274, 275, 276, 277, 280, 281, 282, 283, 285, 286, 287, 288, 291, 292, 293, 295, 296, 297, 300, 303, 304, 305, 306, 307, 309, 310, 311, 313, 314, 315, 316, 318, 319, 321, 322, 323, 324, 325, 327, 328, 329, 330, 331, 332, 333, 334, 335, 336, 338, 339, 340, 341, 343, 344, 345, 346, 348, 349, 350, 351, 352, 353, 354, 355, 356, 357, 358, 359, 361, 362, 363, 364, 365, 366, 367, 368, 369, 371, 372, 373, 374, 375, 376, 377, 378, 379, 383, 384, 387, 389, 390, 391, 392, 393, 394, 395, 397, 398, 399, 400, 402, 403, 404, 405, 406, 407, 408, 409, 410, 411, 412, 413, 414, 415, 416, 417, 418, 421, 422, 423, 426, 427, 429, 431, 432, 433, 434, 438, 439, 440, 441, 442, 443, 444, 447, 450, 452, 453, 454, 456, 457, 458, 459, 461, 462, 463, 465, 466, 467, 469, 470, 471, 474, 475, 476, 477, 479, 480, 481, 483, 485, 486, 487, 489, 490, 491, 492, 494, 495, 497, 498, 499, 500, 501, 502, 503, 504, 505, 507, 508, 509, 510, 511, 512, 513, 514, 515, 516, 517, 518, 520, 521, 522, 523, 524, 525, 526, 527, 528, 529, 531, 532, 533, 535, 536, 537, 538, 539, 540, 542, 543, 544, 545, 546, 547, 548, 549, 551, 552, 553, 554, 557, 559, 560, 561, 562, 564, 565, 567, 569, 570, 571, 572, 573, 574, 575, 576, 577, 579, 581, 582, 584, 586, 587, 589, 590, 591, 592, 593, 595, 597, 599, 601, 603, 604, 606, 607, 608, 611, 612, 616, 617, 618, 619, 620, 622, 624, 625, 626, 628, 629, 630, 631, 633, 634]\n",
            "494\n"
          ],
          "name": "stdout"
        }
      ]
    },
    {
      "cell_type": "code",
      "metadata": {
        "id": "3K2QAfGPpOvg"
      },
      "source": [
        "from random import * \n",
        "\n",
        "My_ArrayFinal=[]\n",
        "My_ArrayFinal=sample(My_Array,353)"
      ],
      "execution_count": null,
      "outputs": []
    },
    {
      "cell_type": "code",
      "metadata": {
        "colab": {
          "base_uri": "https://localhost:8080/"
        },
        "id": "xicMLpZHpPj-",
        "outputId": "231961d7-423c-4c97-d62e-ae29c85cc471"
      },
      "source": [
        "print(My_ArrayFinal)\n",
        "print(len(My_ArrayFinal))\n"
      ],
      "execution_count": null,
      "outputs": [
        {
          "output_type": "stream",
          "text": [
            "[164, 625, 142, 553, 88, 250, 233, 276, 191, 277, 376, 249, 202, 158, 604, 162, 101, 111, 423, 112, 593, 483, 200, 362, 391, 467, 246, 443, 508, 554, 265, 85, 144, 19, 523, 214, 465, 527, 194, 148, 135, 415, 287, 410, 45, 582, 94, 181, 238, 231, 489, 552, 562, 350, 345, 70, 348, 183, 253, 607, 452, 557, 354, 579, 129, 314, 197, 375, 490, 318, 14, 136, 379, 322, 268, 529, 444, 211, 78, 71, 531, 457, 336, 178, 292, 474, 471, 269, 321, 514, 109, 167, 500, 76, 413, 546, 254, 387, 343, 595, 199, 628, 4, 426, 61, 591, 137, 188, 223, 572, 359, 335, 27, 184, 339, 128, 281, 16, 219, 32, 503, 378, 172, 103, 1, 99, 624, 139, 577, 236, 275, 190, 46, 551, 36, 601, 266, 418, 138, 394, 271, 459, 205, 304, 259, 201, 57, 486, 230, 91, 402, 590, 198, 52, 153, 620, 458, 355, 532, 38, 461, 193, 608, 507, 513, 344, 612, 50, 108, 622, 119, 155, 224, 547, 511, 264, 227, 25, 492, 118, 286, 403, 409, 408, 477, 39, 361, 54, 98, 341, 617, 218, 209, 536, 411, 414, 113, 66, 126, 485, 480, 195, 306, 81, 542, 166, 243, 516, 73, 498, 285, 544, 283, 504, 86, 206, 156, 517, 165, 526, 159, 146, 180, 429, 226, 239, 82, 540, 245, 13, 543, 432, 525, 280, 561, 59, 221, 0, 204, 384, 560, 210, 505, 634, 220, 240, 163, 12, 524, 476, 170, 349, 297, 587, 333, 383, 567, 28, 515, 332, 152, 272, 510, 571, 187, 367, 389, 26, 84, 581, 325, 599, 310, 241, 400, 131, 255, 338, 100, 244, 366, 173, 533, 42, 390, 417, 629, 358, 462, 242, 154, 549, 186, 251, 248, 329, 225, 21, 229, 352, 35, 573, 405, 331, 421, 368, 147, 576, 442, 127, 539, 569, 303, 357, 115, 8, 528, 466, 17, 447, 441, 203, 33, 327, 160, 216, 328, 53, 30, 5, 330, 34, 31, 470, 134, 18, 171, 454, 213, 479, 169, 65, 262, 481, 633, 416, 300, 69, 450, 291, 143, 559, 431]\n",
            "353\n"
          ],
          "name": "stdout"
        }
      ]
    },
    {
      "cell_type": "code",
      "metadata": {
        "id": "4FUb7ZekpTJ2"
      },
      "source": [
        "drop_elements = My_ArrayFinal\n",
        "artists_encoded = artists_encoded.drop(drop_elements, axis = 0)"
      ],
      "execution_count": null,
      "outputs": []
    },
    {
      "cell_type": "markdown",
      "metadata": {
        "id": "VPjQDpF-nETh"
      },
      "source": [
        "<a id=\"section24\"></a>\n",
        "## <font color=\"#004D7F\">Fase de modelado\n",
        "</font>"
      ]
    },
    {
      "cell_type": "markdown",
      "metadata": {
        "id": "cPMfdLw5pYYd"
      },
      "source": [
        "<a id=\"section41\"></a>\n",
        "## <font color=\"#004D7F\">Crear conjunto de validación</font>"
      ]
    },
    {
      "cell_type": "code",
      "metadata": {
        "colab": {
          "base_uri": "https://localhost:8080/"
        },
        "id": "1DMjpB2yiWSq",
        "outputId": "71fd045a-c584-4c6c-a708-4cab6df590b3"
      },
      "source": [
        "data =artists_encoded\n",
        "array = data.values\n",
        "# matriz separada en componentes de entrada y salida\n",
        "X_cla = array[:,1:7]\n",
        "Y_cla = array[:,0]\n",
        "data.shape"
      ],
      "execution_count": null,
      "outputs": [
        {
          "output_type": "execute_result",
          "data": {
            "text/plain": [
              "(282, 7)"
            ]
          },
          "metadata": {
            "tags": []
          },
          "execution_count": 321
        }
      ]
    },
    {
      "cell_type": "markdown",
      "metadata": {
        "id": "UgNqnWtJqxMP"
      },
      "source": [
        "<a id=\"section42\"></a>\n",
        "## <font color=\"#004D7F\">Evaluación de línea base</font>"
      ]
    },
    {
      "cell_type": "markdown",
      "metadata": {
        "id": "X1P3wH7tOrRu"
      },
      "source": [
        ""
      ]
    },
    {
      "cell_type": "code",
      "metadata": {
        "colab": {
          "base_uri": "https://localhost:8080/"
        },
        "id": "BAKxm_W5EBmR",
        "outputId": "708dd69d-8c78-4989-ec42-9d48598cd3ab"
      },
      "source": [
        "# Logistic Regression Classification \n",
        "from sklearn.linear_model import LogisticRegression\n",
        "\n",
        "kfold=KFold(n_splits=10)\n",
        "model=LogisticRegression(solver='lbfgs', max_iter=1000)\n",
        "results=cross_val_score(model, X_cla, Y_cla, cv=kfold)\n",
        "print(f\"Accuracy {results.mean()*100.0:,.2f}%  ({results.std()*100.0:,.2f}) %\")"
      ],
      "execution_count": null,
      "outputs": [
        {
          "output_type": "stream",
          "text": [
            "Accuracy 64.17%  (6.11) %\n"
          ],
          "name": "stdout"
        }
      ]
    },
    {
      "cell_type": "code",
      "metadata": {
        "colab": {
          "base_uri": "https://localhost:8080/"
        },
        "id": "BUjgn1BYEtHK",
        "outputId": "a17f50e4-798d-4802-96a8-e952262d54da"
      },
      "source": [
        "# LDA Classification\n",
        "from sklearn.discriminant_analysis import LinearDiscriminantAnalysis\n",
        "\n",
        "kfold=KFold(n_splits=10)\n",
        "model=LinearDiscriminantAnalysis()\n",
        "results=cross_val_score(model, X_cla, Y_cla, cv=kfold)\n",
        "print(f\"Accuracy {results.mean()*100.0:,.2f}%  ({results.std()*100.0:,.2f}) %\")"
      ],
      "execution_count": null,
      "outputs": [
        {
          "output_type": "stream",
          "text": [
            "Accuracy 64.89%  (5.64) %\n"
          ],
          "name": "stdout"
        }
      ]
    },
    {
      "cell_type": "code",
      "metadata": {
        "colab": {
          "base_uri": "https://localhost:8080/"
        },
        "id": "HvSslwHCE6p3",
        "outputId": "ee68519f-11c1-4701-b75b-46a4dd05abcc"
      },
      "source": [
        "# KNN Classification\n",
        "from sklearn.neighbors import KNeighborsClassifier\n",
        "\n",
        "kfold=KFold(n_splits=10)\n",
        "model=KNeighborsClassifier(n_neighbors=9, algorithm=\"kd_tree\")\n",
        "results=cross_val_score(model, X_cla, Y_cla, cv=kfold)\n",
        "print(f\"Accuracy {results.mean()*100.0:,.2f}%  ({results.std()*100.0:,.2f}) %\")"
      ],
      "execution_count": null,
      "outputs": [
        {
          "output_type": "stream",
          "text": [
            "Accuracy 64.91%  (6.48) %\n"
          ],
          "name": "stdout"
        }
      ]
    },
    {
      "cell_type": "code",
      "metadata": {
        "colab": {
          "base_uri": "https://localhost:8080/"
        },
        "id": "8k9y1uvcgLxv",
        "outputId": "640e98f4-c6da-42dd-9d42-37e9b83f53fe"
      },
      "source": [
        "# CART Classification\n",
        "from sklearn.tree import DecisionTreeClassifier\n",
        "\n",
        "kfold=KFold(n_splits=10)\n",
        "model=DecisionTreeClassifier(criterion=\"entropy\")\n",
        "results=cross_val_score(model, X_cla, Y_cla, cv=kfold)\n",
        "print(f\"Accuracy {results.mean()*100.0:,.2f}%  ({results.std()*100.0:,.2f}) %\")"
      ],
      "execution_count": null,
      "outputs": [
        {
          "output_type": "stream",
          "text": [
            "Accuracy 65.25%  (6.14) %\n"
          ],
          "name": "stdout"
        }
      ]
    },
    {
      "cell_type": "code",
      "metadata": {
        "colab": {
          "base_uri": "https://localhost:8080/"
        },
        "id": "bhhuzSnVFFSh",
        "outputId": "a09d500b-c481-49a4-cf11-cc4a0bfd320f"
      },
      "source": [
        "# Gaussian Naive Bayes Classification\n",
        "from sklearn.naive_bayes import GaussianNB\n",
        "\n",
        "kfold=KFold(n_splits=10)\n",
        "model=GaussianNB()\n",
        "results=cross_val_score(model, X_cla, Y_cla, cv=kfold)\n",
        "print(f\"Accuracy {results.mean()*100.0:,.2f}%  ({results.std()*100.0:,.2f}) %\")"
      ],
      "execution_count": null,
      "outputs": [
        {
          "output_type": "stream",
          "text": [
            "Accuracy 66.31%  (7.52) %\n"
          ],
          "name": "stdout"
        }
      ]
    },
    {
      "cell_type": "code",
      "metadata": {
        "colab": {
          "base_uri": "https://localhost:8080/"
        },
        "id": "m966nufMFMJx",
        "outputId": "8b0434aa-faae-4874-9ef7-f6662a4ddddc"
      },
      "source": [
        "# CART Classification\n",
        "from sklearn.tree import DecisionTreeClassifier\n",
        "\n",
        "kfold=KFold(n_splits=10)\n",
        "model=DecisionTreeClassifier(criterion=\"entropy\")\n",
        "results=cross_val_score(model, X_cla, Y_cla, cv=kfold)\n",
        "print(f\"Accuracy {results.mean()*100.0:,.2f}%  ({results.std()*100.0:,.2f}) %\")"
      ],
      "execution_count": null,
      "outputs": [
        {
          "output_type": "stream",
          "text": [
            "Accuracy 66.32%  (6.57) %\n"
          ],
          "name": "stdout"
        }
      ]
    },
    {
      "cell_type": "code",
      "metadata": {
        "colab": {
          "base_uri": "https://localhost:8080/"
        },
        "id": "hM4DDPW1gcZT",
        "outputId": "1ccc1a6d-63fd-4783-de3e-ef31c5b5629e"
      },
      "source": [
        "# SVM Classification\n",
        "from sklearn.svm import SVC\n",
        "\n",
        "kfold=KFold(n_splits=10)\n",
        "model=SVC(gamma=\"auto\", C=2.0, kernel=\"rbf\")\n",
        "results=cross_val_score(model, X_cla, Y_cla, cv=kfold)\n",
        "print(f\"Accuracy {results.mean()*100.0:,.2f}%  ({results.std()*100.0:,.2f}) %\")"
      ],
      "execution_count": null,
      "outputs": [
        {
          "output_type": "stream",
          "text": [
            "Accuracy 65.22%  (7.45) %\n"
          ],
          "name": "stdout"
        }
      ]
    },
    {
      "cell_type": "code",
      "metadata": {
        "colab": {
          "base_uri": "https://localhost:8080/"
        },
        "id": "yMkZsQrJynJa",
        "outputId": "c96ea976-5482-4281-f818-5e244ffd2fb5"
      },
      "source": [
        "models=[]\n",
        "models.append((\"RL\", LogisticRegression(solver='lbfgs', max_iter=1000)))\n",
        "models.append((\"LDA\", LinearDiscriminantAnalysis()))\n",
        "models.append((\"KNN\", KNeighborsClassifier(n_neighbors=9, algorithm=\"kd_tree\")))\n",
        "models.append((\"Naive Bayes\", GaussianNB()))\n",
        "models.append((\"CART\", DecisionTreeClassifier(criterion=\"entropy\")))\n",
        "models.append((\"SVM\", SVC(gamma=\"auto\", C=2.0, kernel=\"rbf\")))\n",
        "\n",
        "results=[]\n",
        "names=[]\n",
        "scoring=\"accuracy\"\n",
        "kfold=KFold(n_splits=10)\n",
        "for name, model in models: \n",
        "    cv_results=cross_val_score(model, X_cla, Y_cla, cv=kfold, scoring=scoring)\n",
        "    results.append(cv_results)\n",
        "    names.append(name)\n",
        "    print(f\"Accuracy: {name}: {cv_results.mean()*100.0:,.2f}%  ({cv_results.std()*100.0:,.2f}) %\")"
      ],
      "execution_count": null,
      "outputs": [
        {
          "output_type": "stream",
          "text": [
            "Accuracy: RL: 64.17%  (6.11) %\n",
            "Accuracy: LDA: 64.89%  (5.64) %\n",
            "Accuracy: KNN: 64.91%  (6.48) %\n",
            "Accuracy: Naive Bayes: 66.31%  (7.52) %\n",
            "Accuracy: CART: 67.00%  (7.85) %\n",
            "Accuracy: SVM: 65.22%  (7.45) %\n"
          ],
          "name": "stdout"
        }
      ]
    },
    {
      "cell_type": "code",
      "metadata": {
        "colab": {
          "base_uri": "https://localhost:8080/",
          "height": 602
        },
        "id": "5C0dRhS8yzL7",
        "outputId": "84708e1b-0ad4-4f0e-e568-20f96746a088"
      },
      "source": [
        "fig=plt.figure()\n",
        "fig.suptitle(\"Comparación de algoritmos\")\n",
        "ax=fig.add_subplot(111)\n",
        "plt.boxplot(results)\n",
        "ax.set_xticklabels(names)\n",
        "plt.show()"
      ],
      "execution_count": null,
      "outputs": [
        {
          "output_type": "display_data",
          "data": {
            "image/png": "[encoded data removed]",
            "text/plain": [
              "<Figure size 1152x648 with 1 Axes>"
            ]
          },
          "metadata": {
            "tags": []
          }
        }
      ]
    },
    {
      "cell_type": "markdown",
      "metadata": {
        "id": "OLOMBkNxzZwR"
      },
      "source": [
        "A partir de estos resultados del accuracy, observamos que SVM es el algoritmo que parece adecuado para estudios adicionales sobre este problema; sin embargo el conjunto de datos no es balanceado, por lo que realizamos la comparación con la métrica de Kappa, donde se muestra que el algoritmo SVM sigue teniendo los mejores resultados"
      ]
    },
    {
      "cell_type": "code",
      "metadata": {
        "colab": {
          "base_uri": "https://localhost:8080/"
        },
        "id": "K7Maevmczhxy",
        "outputId": "3aa568d0-7956-48e8-bc58-efac6e0f9e04"
      },
      "source": [
        "#Obtenemos el conjunto de entrenamiento y de prueba para los atributos y la clase\n",
        "from sklearn.metrics import cohen_kappa_score\n",
        "X_train, X_test,Y_train,Y_test=train_test_split(X_cla,Y_cla, test_size=0.33)\n",
        "for name, model in models: \n",
        "    model.fit(X_train, Y_train)\n",
        "    predicted = model.predict(X_test)\n",
        "    cohen_score=cohen_kappa_score(Y_test, predicted)\n",
        "    print(f\"Cohens Ccore {name}: {cohen_score*100.0:,.2f}%\")"
      ],
      "execution_count": null,
      "outputs": [
        {
          "output_type": "stream",
          "text": [
            "Cohens Ccore RL: 23.37%\n",
            "Cohens Ccore LDA: 23.37%\n",
            "Cohens Ccore KNN: 32.01%\n",
            "Cohens Ccore Naive Bayes: 34.04%\n",
            "Cohens Ccore CART: 38.24%\n",
            "Cohens Ccore SVM: 21.13%\n"
          ],
          "name": "stdout"
        }
      ]
    },
    {
      "cell_type": "code",
      "metadata": {
        "colab": {
          "base_uri": "https://localhost:8080/"
        },
        "id": "cZptwaRwG5qL",
        "outputId": "5ca589f8-8d5c-4593-a9ee-a2ed686f91bf"
      },
      "source": [
        "# Bagged Decision Trees for Classification\n",
        "from sklearn.ensemble import BaggingClassifier\n",
        "\n",
        "kfold=KFold(n_splits=10)\n",
        "cart=DecisionTreeClassifier()\n",
        "model=BaggingClassifier(base_estimator=cart, n_estimators=100, random_state=7)\n",
        "results=cross_val_score(model, X_cla, Y_cla, cv=kfold)\n",
        "print(f\"Accuracy {results.mean()*100.0:,.2f}%  ({results.std()*100.0:,.2f}) %\")"
      ],
      "execution_count": null,
      "outputs": [
        {
          "output_type": "stream",
          "text": [
            "Accuracy 68.44%  (8.73) %\n"
          ],
          "name": "stdout"
        }
      ]
    },
    {
      "cell_type": "code",
      "metadata": {
        "colab": {
          "base_uri": "https://localhost:8080/"
        },
        "id": "L-YHiRi0G-nb",
        "outputId": "d9d860eb-4057-4715-fd50-267943e47c10"
      },
      "source": [
        "# Random Forest Classification\n",
        "from sklearn.ensemble import RandomForestClassifier\n",
        "\n",
        "kfold=KFold(n_splits=10)\n",
        "\n",
        "model=RandomForestClassifier(n_estimators=100, max_features=3, random_state=7)\n",
        "results=cross_val_score(model, X_cla, Y_cla, cv=kfold)\n",
        "print(f\"Accuracy {results.mean()*100.0:,.2f}%  ({results.std()*100.0:,.2f}) %\")"
      ],
      "execution_count": null,
      "outputs": [
        {
          "output_type": "stream",
          "text": [
            "Accuracy 70.22%  (8.09) %\n"
          ],
          "name": "stdout"
        }
      ]
    },
    {
      "cell_type": "code",
      "metadata": {
        "colab": {
          "base_uri": "https://localhost:8080/"
        },
        "id": "rneDr1L7HELo",
        "outputId": "26aabefc-decb-473c-ca9d-37568c6da09c"
      },
      "source": [
        "# Extra Trees Regression\n",
        "from sklearn.ensemble import ExtraTreesClassifier\n",
        "\n",
        "kfold=KFold(n_splits=10)\n",
        "\n",
        "model=ExtraTreesClassifier(n_estimators=100, max_features=3, random_state=7)\n",
        "results=cross_val_score(model, X_cla, Y_cla, cv=kfold)\n",
        "print(f\"Accuracy {results.mean()*100.0:,.2f}%  ({results.std()*100.0:,.2f}) %\")"
      ],
      "execution_count": null,
      "outputs": [
        {
          "output_type": "stream",
          "text": [
            "Accuracy 68.45%  (5.76) %\n"
          ],
          "name": "stdout"
        }
      ]
    },
    {
      "cell_type": "code",
      "metadata": {
        "colab": {
          "base_uri": "https://localhost:8080/"
        },
        "id": "u9_CfZIKHITL",
        "outputId": "b062d0db-4996-47d3-b7a4-3121fe8f98ea"
      },
      "source": [
        "# AdaBoost for Classification\n",
        "from sklearn.ensemble import AdaBoostClassifier\n",
        "\n",
        "kfold=KFold(n_splits=10)\n",
        "cart=DecisionTreeClassifier()\n",
        "model=AdaBoostClassifier(n_estimators=100)\n",
        "results=cross_val_score(model, X_cla, Y_cla, cv=kfold)\n",
        "print(f\"Accuracy {results.mean()*100.0:,.2f}%  ({results.std()*100.0:,.2f}) %\")"
      ],
      "execution_count": null,
      "outputs": [
        {
          "output_type": "stream",
          "text": [
            "Accuracy 66.98%  (5.92) %\n"
          ],
          "name": "stdout"
        }
      ]
    },
    {
      "cell_type": "code",
      "metadata": {
        "colab": {
          "base_uri": "https://localhost:8080/"
        },
        "id": "K6dv14vTKWaz",
        "outputId": "3d1c8f33-8ca1-4208-ff31-7a767238f29a"
      },
      "source": [
        "# Gradient Boosting Machine for Classification\n",
        "from sklearn.ensemble import GradientBoostingClassifier\n",
        "\n",
        "kfold=KFold(n_splits=10)\n",
        "cart=DecisionTreeClassifier()\n",
        "model=GradientBoostingClassifier(n_estimators=100)\n",
        "results=cross_val_score(model, X_cla, Y_cla, cv=kfold)\n",
        "print(f\"Accuracy {results.mean()*100.0:,.2f}%  ({results.std()*100.0:,.2f}) %\")"
      ],
      "execution_count": null,
      "outputs": [
        {
          "output_type": "stream",
          "text": [
            "Accuracy 68.05%  (7.32) %\n"
          ],
          "name": "stdout"
        }
      ]
    },
    {
      "cell_type": "code",
      "metadata": {
        "colab": {
          "base_uri": "https://localhost:8080/"
        },
        "id": "pSNXUjcPKb49",
        "outputId": "08ba988e-39c7-498d-af31-409688325e54"
      },
      "source": [
        "# Voting for Classification\n",
        "from sklearn.discriminant_analysis import LinearDiscriminantAnalysis\n",
        "from sklearn.ensemble import ExtraTreesClassifier\n",
        "from sklearn.ensemble import VotingClassifier\n",
        "from sklearn.svm import SVC\n",
        "\n",
        "kfold=KFold(n_splits=10)\n",
        "\n",
        "#Creamos los submodelos a trabajar\n",
        "estimator=[]\n",
        "\n",
        "model1=ExtraTreesClassifier(n_estimators=100, max_features=3)\n",
        "model2 = LinearDiscriminantAnalysis()\n",
        "model3 = SVC(gamma=\"auto\", C=2.0, kernel=\"rbf\")\n",
        "estimator.append((\"Extra Trees\", model1))\n",
        "estimator.append((\"LDA\", model2))\n",
        "estimator.append((\"SVM\", model3))\n",
        "\n",
        "#Creación del algoritmo de conjunto\n",
        "ensemble=VotingClassifier(estimator)\n",
        "results=cross_val_score(ensemble, X_cla, Y_cla, cv=kfold)\n",
        "print(f\"Accuracy {results.mean()*100.0:,.2f}%  ({results.std()*100.0:,.2f}) %\")"
      ],
      "execution_count": null,
      "outputs": [
        {
          "output_type": "stream",
          "text": [
            "Accuracy 66.31%  (6.87) %\n"
          ],
          "name": "stdout"
        }
      ]
    },
    {
      "cell_type": "code",
      "metadata": {
        "colab": {
          "base_uri": "https://localhost:8080/"
        },
        "id": "n1XIkT8KKgtu",
        "outputId": "63868a18-acd6-4f6a-babf-28ebe1ee39f7"
      },
      "source": [
        "#importing libraries\n",
        "from math import sqrt\n",
        "from numpy import hstack\n",
        "from numpy import vstack\n",
        "from numpy import asarray\n",
        "from sklearn.model_selection import train_test_split\n",
        "from sklearn.metrics import cohen_kappa_score\n",
        "from sklearn.metrics import classification_report\n",
        "X_train, X_test,Y_train,Y_test=train_test_split(X_cla, Y_cla, test_size=0.50)\n",
        "print('Train', X_train.shape, 'Test', X_test.shape)"
      ],
      "execution_count": null,
      "outputs": [
        {
          "output_type": "stream",
          "text": [
            "Train (141, 6) Test (141, 6)\n"
          ],
          "name": "stdout"
        }
      ]
    },
    {
      "cell_type": "code",
      "metadata": {
        "id": "DfuhlsACKrv8"
      },
      "source": [
        "Modelos_Base = [\n",
        "                LinearDiscriminantAnalysis(solver=\"lsqr\",shrinkage=0.1),\n",
        "                BaggingClassifier(base_estimator=DecisionTreeClassifier(), n_estimators=20),\n",
        "                SVC(gamma=\"scale\",kernel=\"poly\",degree=5),\n",
        "                GaussianNB(),\n",
        "                AdaBoostClassifier(n_estimators=20, random_state=7),\n",
        "               ]"
      ],
      "execution_count": null,
      "outputs": []
    },
    {
      "cell_type": "code",
      "metadata": {
        "id": "L7Slv8hdKwrT"
      },
      "source": [
        "class SuperLearner():\n",
        "    def __init__(self,BaseModels,MetaModel,Folds,Random_State):\n",
        "        \n",
        "        self.BaseModels   = BaseModels\n",
        "        self.MetaModel    = MetaModel\n",
        "        self.Folds        = Folds\n",
        "        self.Random_State = Random_State\n",
        "        \n",
        "    def fit(self,X,Y):\n",
        "        MetaX = []\n",
        "        MetaY = []\n",
        "        Kfold = KFold(n_splits=self.Folds,random_state=self.Random_State ,shuffle=True)\n",
        "        for Train_iX, Test_iX in Kfold.split(X):\n",
        "            FoldY = []\n",
        "            X_Train, X_Test = X[Train_iX], X[Test_iX]\n",
        "            Y_Train, Y_Test = Y[Train_iX], Y[Test_iX]\n",
        "            \n",
        "            MetaY.extend(Y_Test)\n",
        "            \n",
        "            for model in self.BaseModels:\n",
        "                model.fit(X_Train,Y_Train)\n",
        "                ModelPredict = model.predict(X_Test)\n",
        "                FoldY.append(ModelPredict.reshape(-1,1))\n",
        "                \n",
        "            MetaX.append(np.hstack(FoldY))\n",
        "            \n",
        "        MetaInput  = np.vstack(MetaX)\n",
        "        MetaTarget = np.asarray(MetaY)\n",
        "        \n",
        "        self.MetaModel.fit(MetaInput,MetaTarget)\n",
        "        \n",
        "        return self\n",
        "    \n",
        "    def predict(self,X):\n",
        "        MetaX = []\n",
        "        for model in self.BaseModels:\n",
        "            ModelPredict = model.predict(X)\n",
        "            MetaX.append(ModelPredict.reshape(-1,1))\n",
        "            \n",
        "        MetaX = np.hstack(MetaX)\n",
        "        \n",
        "        MMPredict = self.MetaModel.predict(MetaX)\n",
        "        \n",
        "        return MMPredict\n"
      ],
      "execution_count": null,
      "outputs": []
    },
    {
      "cell_type": "code",
      "metadata": {
        "id": "zuUJrEyYLDtt"
      },
      "source": [
        "Meta_Modelo  = ExtraTreesClassifier(n_estimators=100, max_features=3, random_state=7)"
      ],
      "execution_count": null,
      "outputs": []
    },
    {
      "cell_type": "code",
      "metadata": {
        "id": "EvQYZuS9LQC8"
      },
      "source": [
        "Modelos      = {\n",
        "                \"LoR\" :LogisticRegression(solver=\"lbfgs\",max_iter=1000),\n",
        "                \"LDA\" :LinearDiscriminantAnalysis(),\n",
        "                \"KNN\" :KNeighborsClassifier(n_neighbors=9, algorithm=\"kd_tree\"),\n",
        "                \"Naive Bayes\":GaussianNB(),\n",
        "                \"SVC\" :SVC(gamma=\"auto\", C=2.0, kernel=\"rbf\"),\n",
        "                \"CART\":DecisionTreeClassifier(criterion=\"entropy\"),\n",
        "                \"RF\"  :RandomForestClassifier(n_estimators=100, max_features=3, random_state=7),\n",
        "                \"ET\"  :ExtraTreesClassifier(n_estimators=100, max_features=3, random_state=7),\n",
        "                \"AB\"  :AdaBoostClassifier(n_estimators=100, random_state=7),\n",
        "                \"GBM\" :GradientBoostingClassifier(n_estimators=100,random_state=7,max_features=\"auto\"),\n",
        "                \"SL\"  :SuperLearner(BaseModels=Modelos_Base,MetaModel=Meta_Modelo,Folds=10,Random_State=3),\n",
        "                \"BDTC\":BaggingClassifier(base_estimator=cart, n_estimators=100, random_state=7)\n",
        "               }"
      ],
      "execution_count": null,
      "outputs": []
    },
    {
      "cell_type": "code",
      "metadata": {
        "id": "2QFoqiWQLKo3"
      },
      "source": [
        "Metrica  = [\"kappa\",\"precision-0\",\"recall-0\",\"f1-0\",\"precision-1\",\"recall-1\",\"f1-1\"]"
      ],
      "execution_count": null,
      "outputs": []
    },
    {
      "cell_type": "code",
      "metadata": {
        "id": "eADm--psLUjq"
      },
      "source": [
        "data      = np.zeros((len(Metrica),len(Modelos.keys())))\n",
        "Metricas  = pd.DataFrame(data,index=Metrica,columns=Modelos.keys())"
      ],
      "execution_count": null,
      "outputs": []
    },
    {
      "cell_type": "code",
      "metadata": {
        "colab": {
          "base_uri": "https://localhost:8080/",
          "height": 266
        },
        "id": "6vu0ZA8QLaAv",
        "outputId": "95f01faf-f70b-41c3-8a84-cae0118068e9"
      },
      "source": [
        "for model in Modelos.keys():\n",
        "    \n",
        "    Modelos[model].fit(X_train,Y_train)\n",
        "    \n",
        "    Predic          = Modelos[model].predict(X_test)\n",
        "    CohenScore      = cohen_kappa_score(Y_test,Predic)\n",
        "    Reporte         = classification_report(Y_test,Predic,target_names=[\"Clase 0\",\"Clase 1\"],output_dict=True)\n",
        "    \n",
        "    Metricas.loc[Metrica,[model]] = np.around(np.array([CohenScore,\n",
        "                                                        Reporte[\"Clase 0\"][\"precision\"],\n",
        "                                                        Reporte[\"Clase 0\"][\"recall\"],\n",
        "                                                        Reporte[\"Clase 0\"][\"f1-score\"],\n",
        "                                                        Reporte[\"Clase 1\"][\"precision\"],\n",
        "                                                        Reporte[\"Clase 1\"][\"recall\"],\n",
        "                                                        Reporte[\"Clase 1\"][\"f1-score\"]]).reshape(-1,1),decimals=3)\n",
        "    \n",
        "Metricas.head(7)"
      ],
      "execution_count": null,
      "outputs": [
        {
          "output_type": "execute_result",
          "data": {
            "text/html": [
              "<div>\n",
              "<style scoped>\n",
              "    .dataframe tbody tr th:only-of-type {\n",
              "        vertical-align: middle;\n",
              "    }\n",
              "\n",
              "    .dataframe tbody tr th {\n",
              "        vertical-align: top;\n",
              "    }\n",
              "\n",
              "    .dataframe thead th {\n",
              "        text-align: right;\n",
              "    }\n",
              "</style>\n",
              "<table border=\"1\" class=\"dataframe\">\n",
              "  <thead>\n",
              "    <tr style=\"text-align: right;\">\n",
              "      <th></th>\n",
              "      <th>LoR</th>\n",
              "      <th>LDA</th>\n",
              "      <th>KNN</th>\n",
              "      <th>Naive Bayes</th>\n",
              "      <th>SVC</th>\n",
              "      <th>CART</th>\n",
              "      <th>RF</th>\n",
              "      <th>ET</th>\n",
              "      <th>AB</th>\n",
              "      <th>GBM</th>\n",
              "      <th>SL</th>\n",
              "      <th>BDTC</th>\n",
              "    </tr>\n",
              "  </thead>\n",
              "  <tbody>\n",
              "    <tr>\n",
              "      <th>kappa</th>\n",
              "      <td>0.359</td>\n",
              "      <td>0.359</td>\n",
              "      <td>0.367</td>\n",
              "      <td>0.298</td>\n",
              "      <td>0.416</td>\n",
              "      <td>0.164</td>\n",
              "      <td>0.263</td>\n",
              "      <td>0.291</td>\n",
              "      <td>0.121</td>\n",
              "      <td>0.175</td>\n",
              "      <td>0.246</td>\n",
              "      <td>0.220</td>\n",
              "    </tr>\n",
              "    <tr>\n",
              "      <th>precision-0</th>\n",
              "      <td>0.672</td>\n",
              "      <td>0.672</td>\n",
              "      <td>0.725</td>\n",
              "      <td>0.661</td>\n",
              "      <td>0.703</td>\n",
              "      <td>0.556</td>\n",
              "      <td>0.606</td>\n",
              "      <td>0.620</td>\n",
              "      <td>0.535</td>\n",
              "      <td>0.567</td>\n",
              "      <td>0.606</td>\n",
              "      <td>0.586</td>\n",
              "    </tr>\n",
              "    <tr>\n",
              "      <th>recall-0</th>\n",
              "      <td>0.642</td>\n",
              "      <td>0.642</td>\n",
              "      <td>0.552</td>\n",
              "      <td>0.552</td>\n",
              "      <td>0.672</td>\n",
              "      <td>0.597</td>\n",
              "      <td>0.642</td>\n",
              "      <td>0.657</td>\n",
              "      <td>0.567</td>\n",
              "      <td>0.567</td>\n",
              "      <td>0.597</td>\n",
              "      <td>0.612</td>\n",
              "    </tr>\n",
              "    <tr>\n",
              "      <th>f1-0</th>\n",
              "      <td>0.656</td>\n",
              "      <td>0.656</td>\n",
              "      <td>0.627</td>\n",
              "      <td>0.602</td>\n",
              "      <td>0.687</td>\n",
              "      <td>0.576</td>\n",
              "      <td>0.623</td>\n",
              "      <td>0.638</td>\n",
              "      <td>0.551</td>\n",
              "      <td>0.567</td>\n",
              "      <td>0.602</td>\n",
              "      <td>0.599</td>\n",
              "    </tr>\n",
              "    <tr>\n",
              "      <th>precision-1</th>\n",
              "      <td>0.688</td>\n",
              "      <td>0.688</td>\n",
              "      <td>0.667</td>\n",
              "      <td>0.647</td>\n",
              "      <td>0.714</td>\n",
              "      <td>0.609</td>\n",
              "      <td>0.657</td>\n",
              "      <td>0.671</td>\n",
              "      <td>0.586</td>\n",
              "      <td>0.608</td>\n",
              "      <td>0.640</td>\n",
              "      <td>0.634</td>\n",
              "    </tr>\n",
              "    <tr>\n",
              "      <th>recall-1</th>\n",
              "      <td>0.716</td>\n",
              "      <td>0.716</td>\n",
              "      <td>0.811</td>\n",
              "      <td>0.743</td>\n",
              "      <td>0.743</td>\n",
              "      <td>0.568</td>\n",
              "      <td>0.622</td>\n",
              "      <td>0.635</td>\n",
              "      <td>0.554</td>\n",
              "      <td>0.608</td>\n",
              "      <td>0.649</td>\n",
              "      <td>0.608</td>\n",
              "    </tr>\n",
              "    <tr>\n",
              "      <th>f1-1</th>\n",
              "      <td>0.702</td>\n",
              "      <td>0.702</td>\n",
              "      <td>0.732</td>\n",
              "      <td>0.692</td>\n",
              "      <td>0.728</td>\n",
              "      <td>0.587</td>\n",
              "      <td>0.639</td>\n",
              "      <td>0.653</td>\n",
              "      <td>0.569</td>\n",
              "      <td>0.608</td>\n",
              "      <td>0.644</td>\n",
              "      <td>0.621</td>\n",
              "    </tr>\n",
              "  </tbody>\n",
              "</table>\n",
              "</div>"
            ],
            "text/plain": [
              "               LoR    LDA    KNN  Naive Bayes  ...     AB    GBM     SL   BDTC\n",
              "kappa        0.359  0.359  0.367        0.298  ...  0.121  0.175  0.246  0.220\n",
              "precision-0  0.672  0.672  0.725        0.661  ...  0.535  0.567  0.606  0.586\n",
              "recall-0     0.642  0.642  0.552        0.552  ...  0.567  0.567  0.597  0.612\n",
              "f1-0         0.656  0.656  0.627        0.602  ...  0.551  0.567  0.602  0.599\n",
              "precision-1  0.688  0.688  0.667        0.647  ...  0.586  0.608  0.640  0.634\n",
              "recall-1     0.716  0.716  0.811        0.743  ...  0.554  0.608  0.649  0.608\n",
              "f1-1         0.702  0.702  0.732        0.692  ...  0.569  0.608  0.644  0.621\n",
              "\n",
              "[7 rows x 12 columns]"
            ]
          },
          "metadata": {
            "tags": []
          },
          "execution_count": 348
        }
      ]
    },
    {
      "cell_type": "code",
      "metadata": {
        "colab": {
          "base_uri": "https://localhost:8080/",
          "height": 1000
        },
        "id": "5M0tAgQuU6md",
        "outputId": "c8ed772e-5b26-4b92-cfcc-cc47c63f193f"
      },
      "source": [
        "plt.figure(figsize=(20,25),tight_layout={\"pad\":4})\n",
        "# --- subplot --- #\n",
        "plt.subplot(311)\n",
        "plt.plot(range(len(Modelos.keys())),\n",
        "         Metricas.loc[[\"kappa\"],Modelos.keys()].to_numpy().reshape(-1,1),\n",
        "         marker=\"o\",ms=9.0,mfc=\"#e74c3c\",mec=\"#e74c3c\",ls='--',lw=2.0,color=\"#3498db\")\n",
        "plt.xticks(range(len(Modelos.keys())),Modelos.keys())\n",
        "plt.xlabel(\"Modelos\",fontdict={\"fontsize\":15},labelpad=15.0)\n",
        "plt.ylabel(\"Kappa score\",fontdict={\"fontsize\":15},labelpad=15.0)\n",
        "plt.title(\"Kappa Score\",fontdict={\"fontsize\":25},pad=15.0)\n",
        "# --- SUBPLOT 1 --- #\n",
        "plt.subplot(312)\n",
        "# --- PLOTS --- #\n",
        "plt.plot(range(len(Modelos.keys())),Metricas.loc[[\"precision-0\"],Modelos.keys()].to_numpy().reshape(-1,1),\n",
        "         label=\"Precisión clase 0\",marker=\"P\",mfc=\"#3498db\",mec=\"#3498db\",ms=9.0,ls=\"\")\n",
        "plt.plot(range(len(Modelos.keys())),Metricas.loc[[\"recall-0\"],Modelos.keys()].to_numpy().reshape(-1,1),\n",
        "         label=\"Recall clase 0\",marker=\"^\",mfc=\"#8e44ad\",mec=\"#8e44ad\",ms=9.0,ls=\"\")\n",
        "plt.plot(range(len(Modelos.keys())),Metricas.loc[[\"f1-0\"],Modelos.keys()].to_numpy().reshape(-1,1),\n",
        "         label=\"F1 score clase 0\",marker=\"o\",ms=9.0,mfc=\"#e74c3c\",mec=\"#e74c3c\",ls='--',lw=2.0,color=\"#3498db\")\n",
        "# --- ETIQUETAS --- #\n",
        "plt.xticks(range(len(Modelos.keys())),Modelos.keys())\n",
        "plt.xlabel(\"Modelos\",fontdict={\"fontsize\":15},labelpad=15.0)\n",
        "plt.ylabel(\"Score métricas\",fontdict={\"fontsize\":15},labelpad=15.0)\n",
        "plt.legend(markerscale=1.0,loc=\"lower left\")\n",
        "plt.title(\"Clase 0\",fontdict={\"fontsize\":25},pad=15.0)\n",
        "# --- SUBPLOT 2 --- #\n",
        "plt.subplot(313)\n",
        "# --- PLOTS --- #\n",
        "plt.plot(range(len(Modelos.keys())),Metricas.loc[[\"precision-1\"],Modelos.keys()].to_numpy().reshape(-1,1),\n",
        "         label=\"Precisión clase 0\",marker=\"P\",mfc=\"#3498db\",mec=\"#3498db\",ms=9.0,ls=\"\")\n",
        "plt.plot(range(len(Modelos.keys())),Metricas.loc[[\"recall-1\"],Modelos.keys()].to_numpy().reshape(-1,1),\n",
        "         label=\"Recall clase 0\",marker=\"^\",mfc=\"#8e44ad\",mec=\"#8e44ad\",ms=9.0,ls=\"\")\n",
        "plt.plot(range(len(Modelos.keys())),Metricas.loc[[\"f1-1\"],Modelos.keys()].to_numpy().reshape(-1,1),\n",
        "         label=\"F1 score clase 0\",marker=\"o\",ms=9.0,mfc=\"#e74c3c\",mec=\"#e74c3c\",ls='--',lw=2.0,color=\"#3498db\")\n",
        "# --- ETIQUETAS --- #\n",
        "plt.xticks(range(len(Modelos.keys())),Modelos.keys())\n",
        "plt.xlabel(\"Modelos\",fontdict={\"fontsize\":15},labelpad=15.0)\n",
        "plt.ylabel(\"Score métricas\",fontdict={\"fontsize\":15},labelpad=15.0)\n",
        "plt.legend(markerscale=1.0,loc=\"lower right\")\n",
        "plt.title(\"Clase 1\",fontdict={\"fontsize\":25},pad=15.0)\n",
        "\n",
        "plt.show()"
      ],
      "execution_count": null,
      "outputs": [
        {
          "output_type": "display_data",
          "data": {
            "image/png": "[encoded data removed]",
            "text/plain": [
              "<Figure size 1440x1800 with 3 Axes>"
            ]
          },
          "metadata": {
            "tags": []
          }
        }
      ]
    },
    {
      "cell_type": "markdown",
      "metadata": {
        "id": "05j-W5PQg_S7"
      },
      "source": [
        "OBtimizacion "
      ]
    },
    {
      "cell_type": "code",
      "metadata": {
        "colab": {
          "base_uri": "https://localhost:8080/"
        },
        "id": "BA5R9zgL2wRQ",
        "outputId": "05562860-a511-402f-b51a-656798903c98"
      },
      "source": [
        "#Grid Search\n",
        "from sklearn.model_selection import GridSearchCV\n",
        "from sklearn.svm import SVC\n",
        "\n",
        "c=np.array([1.0, 2.0, 3.0, 4.0, 5.0, 6.0, 7.0])\n",
        "k=np.array(['linear', 'rbf', 'poly'])\n",
        "param_grid=dict(C=c, kernel=k)\n",
        "model=SVC()\n",
        "grid=GridSearchCV(model, param_grid=param_grid, cv=5)\n",
        "grid.fit(X_cla, Y_cla)\n",
        "print(f\"Mejor Accuracy: {grid.best_score_.mean()*100.0:,.2f}%\")\n",
        "print(f\"Mejor C: {grid.best_estimator_.C}\")\n",
        "print(f\"Mejor Kernel: {grid.best_estimator_.kernel}\")"
      ],
      "execution_count": null,
      "outputs": [
        {
          "output_type": "stream",
          "text": [
            "Mejor Accuracy: 69.14%\n",
            "Mejor C: 1.0\n",
            "Mejor Kernel: poly\n"
          ],
          "name": "stdout"
        }
      ]
    },
    {
      "cell_type": "markdown",
      "metadata": {
        "id": "x7XZr74jzOIt"
      },
      "source": [
        "Random Search"
      ]
    },
    {
      "cell_type": "code",
      "metadata": {
        "colab": {
          "base_uri": "https://localhost:8080/"
        },
        "id": "MsnCKM0htUTF",
        "outputId": "4da0439d-78a9-47e4-f1e2-98f5aee4ab75"
      },
      "source": [
        "from sklearn.model_selection import RandomizedSearchCV\n",
        "from scipy.stats import uniform\n",
        "\n",
        "param_random={'C': uniform(1,100)}\n",
        "model=SVC()\n",
        "rsearch=RandomizedSearchCV(estimator=model, param_distributions=param_random, n_iter=50, cv=5)\n",
        "rsearch.fit(X_cla, Y_cla)\n",
        "\n",
        "print(f\"Mejor Accuracy: {rsearch.best_score_.mean()*100.0:,.2f}%\")\n",
        "print(f\"Mejor C: {rsearch.best_estimator_.C}\")"
      ],
      "execution_count": null,
      "outputs": [
        {
          "output_type": "stream",
          "text": [
            "Mejor Accuracy: 69.48%\n",
            "Mejor C: 16.803830423385335\n"
          ],
          "name": "stdout"
        }
      ]
    },
    {
      "cell_type": "markdown",
      "metadata": {
        "id": "dpiLCcREzdAd"
      },
      "source": [
        "<a id=\"section6\"></a>\n",
        "# <font color=\"#004D7F\">Forecasting</font>"
      ]
    },
    {
      "cell_type": "markdown",
      "metadata": {
        "id": "WxL-CuOBubuy"
      },
      "source": [
        "El siguiente ejemplo muestra cómo se puede entrenar un modelo SVCy Extra Trees  , guardar el modelo en un archivo y cargarlo para hacer predicciones en el conjunto de datos no etiquetados.\n",
        "\n",
        "La ejecución del ejemplo guarda el modelo en modelSVC.sav y modelET.sav finalizado en su directorio de trabajo local. Carguamos el modelo guardado y evaluamos proporcionando una estimación de la accuracy del modelo en datos no etiquetados."
      ]
    },
    {
      "cell_type": "markdown",
      "metadata": {
        "id": "9vlPhajUSTjJ"
      },
      "source": [
        " Forecasting"
      ]
    },
    {
      "cell_type": "code",
      "metadata": {
        "id": "uWGLaZ50SUyE"
      },
      "source": [
        "# Save Model Using Pickle\n",
        "from sklearn.model_selection import train_test_split\n",
        "import pickle as pkl\n",
        "# Train/test\n",
        "X_train, X_test, Y_train, Y_test = train_test_split(X_cla,Y_cla, test_size=0.33, random_state=7)\n",
        "# Fit the model on 33%\n",
        "estimadores=[]\n",
        "estimadores.append((\"standarize\", StandardScaler()))\n",
        "estimadores.append((\"SVC\", SVC()))\n",
        "model=Pipeline(estimadores)\n",
        "model.fit(X_train, Y_train)\n",
        "# save the model to disk\n",
        "filename = 'modelSVC.sav'\n",
        "pkl.dump(model, open(filename, 'wb'))"
      ],
      "execution_count": null,
      "outputs": []
    },
    {
      "cell_type": "code",
      "metadata": {
        "colab": {
          "base_uri": "https://localhost:8080/"
        },
        "id": "mviWBTmoTBhI",
        "outputId": "4f9dc6d5-e422-40c1-8a73-56b015f94294"
      },
      "source": [
        "# load the model from disk\n",
        "loaded_model = pkl.load(open(filename, 'rb'))\n",
        "results = loaded_model.score(X_test, Y_test)\n",
        "print(f'Accuracy: {results.mean()*100.0:,.2f}%')"
      ],
      "execution_count": null,
      "outputs": [
        {
          "output_type": "stream",
          "text": [
            "Accuracy: 65.96%\n"
          ],
          "name": "stdout"
        }
      ]
    },
    {
      "cell_type": "code",
      "metadata": {
        "id": "k3_oKU6XTIlf"
      },
      "source": [
        "# Save Model Using Pickle\n",
        "from sklearn.model_selection import train_test_split\n",
        "import pickle as pkl\n",
        "# Train/test\n",
        "X_train, X_test, Y_train, Y_test = train_test_split(X_cla,Y_cla, test_size=0.33)\n",
        "# Fit the model on 33%\n",
        "estimadores=[]\n",
        "estimadores.append((\"standarize\", StandardScaler()))\n",
        "estimadores.append((\"ET\", ExtraTreesClassifier()))\n",
        "model=Pipeline(estimadores)\n",
        "model.fit(X_train, Y_train)\n",
        "# save the model to disk\n",
        "filename = 'modelET.sav'\n",
        "pkl.dump(model, open(filename, 'wb'))"
      ],
      "execution_count": null,
      "outputs": []
    },
    {
      "cell_type": "code",
      "metadata": {
        "colab": {
          "base_uri": "https://localhost:8080/"
        },
        "id": "eklRG3MBTVDt",
        "outputId": "7892fa6d-ae5b-4908-f877-88ec5de52b26"
      },
      "source": [
        "# load the model from disk\n",
        "loaded_model = pkl.load(open(filename, 'rb'))\n",
        "results = loaded_model.score(X_test, Y_test)\n",
        "print(f'Accuracy: {results.mean()*100.0:,.2f}%')"
      ],
      "execution_count": null,
      "outputs": [
        {
          "output_type": "stream",
          "text": [
            "Accuracy: 68.09%\n"
          ],
          "name": "stdout"
        }
      ]
    },
    {
      "cell_type": "markdown",
      "metadata": {
        "id": "4kf10m-ETkRK"
      },
      "source": [
        "<a id=\"section6\"></a>\n",
        "# <font color=\"#004D7F\">Joblib</font>\n",
        " "
      ]
    },
    {
      "cell_type": "code",
      "metadata": {
        "colab": {
          "base_uri": "https://localhost:8080/"
        },
        "id": "vy866zFLTncw",
        "outputId": "996a96a8-6477-4351-b9e2-1be9f0ac2353"
      },
      "source": [
        "# Save Model Using joblib\n",
        "import joblib as jbl\n",
        "# Train / Test\n",
        "X_train, X_test, Y_train, Y_test = train_test_split(X_cla,Y_cla, test_size=0.33, random_state=7)\n",
        "# Fit the model on 33%\n",
        "estimadores = []\n",
        "estimadores.append((\"standarize\", StandardScaler()))\n",
        "estimadores.append(('SVC', SVC()))\n",
        "model = Pipeline(estimadores)\n",
        "model.fit(X_train, Y_train)\n",
        "# save the model to disk\n",
        "filename = 'modelSVC-jbl.sav'\n",
        "jbl.dump(model, filename)"
      ],
      "execution_count": null,
      "outputs": [
        {
          "output_type": "execute_result",
          "data": {
            "text/plain": [
              "['modelSVC-jbl.sav']"
            ]
          },
          "metadata": {
            "tags": []
          },
          "execution_count": 111
        }
      ]
    },
    {
      "cell_type": "code",
      "metadata": {
        "colab": {
          "base_uri": "https://localhost:8080/"
        },
        "id": "CYtzoL7wT0xg",
        "outputId": "558afc01-4f5c-48af-cd8c-2eb305e6512a"
      },
      "source": [
        "# load the model from disk\n",
        "loaded_model = jbl.load(filename)\n",
        "results = loaded_model.score(X_test, Y_test)\n",
        "print(f'Accuracy: {results.mean()*100.0:,.2f}%')"
      ],
      "execution_count": null,
      "outputs": [
        {
          "output_type": "stream",
          "text": [
            "Accuracy: 65.96%\n"
          ],
          "name": "stdout"
        }
      ]
    },
    {
      "cell_type": "code",
      "metadata": {
        "colab": {
          "base_uri": "https://localhost:8080/",
          "height": 419
        },
        "id": "vM7i93A9UCYd",
        "outputId": "6dd27bbe-3956-4eb2-9410-1d33206b1433"
      },
      "source": [
        "predictions = loaded_model.predict(X_test)\n",
        "nombres =['moodEncoded','tempoEncoded','genreEncoded','artist_typeEncoded','edadEncoded','durationEncoded']\n",
        "predicted_data = pd.DataFrame(X_test, columns=nombres)\n",
        "predictions_df = pd.DataFrame(predictions, columns=['top'])\n",
        "df_pred = pd.concat([predicted_data, predictions_df], axis=1)\n",
        "df_pred"
      ],
      "execution_count": null,
      "outputs": [
        {
          "output_type": "execute_result",
          "data": {
            "text/html": [
              "<div>\n",
              "<style scoped>\n",
              "    .dataframe tbody tr th:only-of-type {\n",
              "        vertical-align: middle;\n",
              "    }\n",
              "\n",
              "    .dataframe tbody tr th {\n",
              "        vertical-align: top;\n",
              "    }\n",
              "\n",
              "    .dataframe thead th {\n",
              "        text-align: right;\n",
              "    }\n",
              "</style>\n",
              "<table border=\"1\" class=\"dataframe\">\n",
              "  <thead>\n",
              "    <tr style=\"text-align: right;\">\n",
              "      <th></th>\n",
              "      <th>moodEncoded</th>\n",
              "      <th>tempoEncoded</th>\n",
              "      <th>genreEncoded</th>\n",
              "      <th>artist_typeEncoded</th>\n",
              "      <th>edadEncoded</th>\n",
              "      <th>durationEncoded</th>\n",
              "      <th>top</th>\n",
              "    </tr>\n",
              "  </thead>\n",
              "  <tbody>\n",
              "    <tr>\n",
              "      <th>0</th>\n",
              "      <td>5.0</td>\n",
              "      <td>2.0</td>\n",
              "      <td>3.0</td>\n",
              "      <td>3.0</td>\n",
              "      <td>1.0</td>\n",
              "      <td>0.0</td>\n",
              "      <td>1.0</td>\n",
              "    </tr>\n",
              "    <tr>\n",
              "      <th>1</th>\n",
              "      <td>4.0</td>\n",
              "      <td>2.0</td>\n",
              "      <td>3.0</td>\n",
              "      <td>2.0</td>\n",
              "      <td>1.0</td>\n",
              "      <td>0.0</td>\n",
              "      <td>1.0</td>\n",
              "    </tr>\n",
              "    <tr>\n",
              "      <th>2</th>\n",
              "      <td>6.0</td>\n",
              "      <td>2.0</td>\n",
              "      <td>3.0</td>\n",
              "      <td>3.0</td>\n",
              "      <td>4.0</td>\n",
              "      <td>5.0</td>\n",
              "      <td>0.0</td>\n",
              "    </tr>\n",
              "    <tr>\n",
              "      <th>3</th>\n",
              "      <td>5.0</td>\n",
              "      <td>2.0</td>\n",
              "      <td>4.0</td>\n",
              "      <td>3.0</td>\n",
              "      <td>3.0</td>\n",
              "      <td>4.0</td>\n",
              "      <td>1.0</td>\n",
              "    </tr>\n",
              "    <tr>\n",
              "      <th>4</th>\n",
              "      <td>5.0</td>\n",
              "      <td>0.0</td>\n",
              "      <td>4.0</td>\n",
              "      <td>3.0</td>\n",
              "      <td>3.0</td>\n",
              "      <td>6.0</td>\n",
              "      <td>1.0</td>\n",
              "    </tr>\n",
              "    <tr>\n",
              "      <th>...</th>\n",
              "      <td>...</td>\n",
              "      <td>...</td>\n",
              "      <td>...</td>\n",
              "      <td>...</td>\n",
              "      <td>...</td>\n",
              "      <td>...</td>\n",
              "      <td>...</td>\n",
              "    </tr>\n",
              "    <tr>\n",
              "      <th>89</th>\n",
              "      <td>4.0</td>\n",
              "      <td>2.0</td>\n",
              "      <td>1.0</td>\n",
              "      <td>2.0</td>\n",
              "      <td>3.0</td>\n",
              "      <td>2.0</td>\n",
              "      <td>0.0</td>\n",
              "    </tr>\n",
              "    <tr>\n",
              "      <th>90</th>\n",
              "      <td>6.0</td>\n",
              "      <td>2.0</td>\n",
              "      <td>1.0</td>\n",
              "      <td>3.0</td>\n",
              "      <td>2.0</td>\n",
              "      <td>0.0</td>\n",
              "      <td>0.0</td>\n",
              "    </tr>\n",
              "    <tr>\n",
              "      <th>91</th>\n",
              "      <td>6.0</td>\n",
              "      <td>2.0</td>\n",
              "      <td>2.0</td>\n",
              "      <td>3.0</td>\n",
              "      <td>2.0</td>\n",
              "      <td>4.0</td>\n",
              "      <td>0.0</td>\n",
              "    </tr>\n",
              "    <tr>\n",
              "      <th>92</th>\n",
              "      <td>3.0</td>\n",
              "      <td>2.0</td>\n",
              "      <td>1.0</td>\n",
              "      <td>3.0</td>\n",
              "      <td>1.0</td>\n",
              "      <td>5.0</td>\n",
              "      <td>0.0</td>\n",
              "    </tr>\n",
              "    <tr>\n",
              "      <th>93</th>\n",
              "      <td>4.0</td>\n",
              "      <td>1.0</td>\n",
              "      <td>2.0</td>\n",
              "      <td>2.0</td>\n",
              "      <td>1.0</td>\n",
              "      <td>3.0</td>\n",
              "      <td>0.0</td>\n",
              "    </tr>\n",
              "  </tbody>\n",
              "</table>\n",
              "<p>94 rows × 7 columns</p>\n",
              "</div>"
            ],
            "text/plain": [
              "    moodEncoded  tempoEncoded  genreEncoded  ...  edadEncoded  durationEncoded  top\n",
              "0           5.0           2.0           3.0  ...          1.0              0.0  1.0\n",
              "1           4.0           2.0           3.0  ...          1.0              0.0  1.0\n",
              "2           6.0           2.0           3.0  ...          4.0              5.0  0.0\n",
              "3           5.0           2.0           4.0  ...          3.0              4.0  1.0\n",
              "4           5.0           0.0           4.0  ...          3.0              6.0  1.0\n",
              "..          ...           ...           ...  ...          ...              ...  ...\n",
              "89          4.0           2.0           1.0  ...          3.0              2.0  0.0\n",
              "90          6.0           2.0           1.0  ...          2.0              0.0  0.0\n",
              "91          6.0           2.0           2.0  ...          2.0              4.0  0.0\n",
              "92          3.0           2.0           1.0  ...          1.0              5.0  0.0\n",
              "93          4.0           1.0           2.0  ...          1.0              3.0  0.0\n",
              "\n",
              "[94 rows x 7 columns]"
            ]
          },
          "metadata": {
            "tags": []
          },
          "execution_count": 95
        }
      ]
    },
    {
      "cell_type": "code",
      "metadata": {
        "colab": {
          "base_uri": "https://localhost:8080/"
        },
        "id": "k-MIUjsz0Gue",
        "outputId": "57115544-0ee1-4bfd-96c1-7396d30b1215"
      },
      "source": [
        "# Save Model Using joblib\n",
        "import joblib as jbl\n",
        "# Train / Test\n",
        "X_train, X_test, Y_train, Y_test = train_test_split(X_cla,Y_cla, test_size=0.33)\n",
        "# Fit the model on 33%\n",
        "estimadores = []\n",
        "estimadores.append((\"standarize\", StandardScaler()))\n",
        "estimadores.append(('ET', ExtraTreesClassifier()))\n",
        "model1 = Pipeline(estimadores)\n",
        "model1.fit(X_train, Y_train)\n",
        "# save the model to disk\n",
        "filename1 = 'modelET-jbl.sav'\n",
        "jbl.dump(model1, filename1)"
      ],
      "execution_count": null,
      "outputs": [
        {
          "output_type": "execute_result",
          "data": {
            "text/plain": [
              "['modelET-jbl.sav']"
            ]
          },
          "metadata": {
            "tags": []
          },
          "execution_count": 117
        }
      ]
    },
    {
      "cell_type": "code",
      "metadata": {
        "colab": {
          "base_uri": "https://localhost:8080/"
        },
        "id": "VhiMWwy_016s",
        "outputId": "ec02d0b1-f904-408a-ca9d-f8d8169f7677"
      },
      "source": [
        "# load the model from disk\n",
        "loaded_model1 = jbl.load(filename1)\n",
        "results = loaded_model1.score(X_test, Y_test)\n",
        "print(f'Accuracy: {results.mean()*100.0:,.2f}%')"
      ],
      "execution_count": null,
      "outputs": [
        {
          "output_type": "stream",
          "text": [
            "Accuracy: 70.21%\n"
          ],
          "name": "stdout"
        }
      ]
    },
    {
      "cell_type": "code",
      "metadata": {
        "colab": {
          "base_uri": "https://localhost:8080/",
          "height": 419
        },
        "id": "C4XBBEF31j7s",
        "outputId": "8c25b7db-8af2-4d7c-a45e-5a5a8ca3c055"
      },
      "source": [
        "predictions = loaded_model1.predict(X_test)\n",
        "nombres =['moodEncoded','tempoEncoded','genreEncoded','artist_typeEncoded','edadEncoded','durationEncoded']\n",
        "predicted_data = pd.DataFrame(X_test, columns=nombres)\n",
        "predictions_df = pd.DataFrame(predictions, columns=['top'])\n",
        "df_pred = pd.concat([predicted_data, predictions_df], axis=1)\n",
        "df_pred"
      ],
      "execution_count": null,
      "outputs": [
        {
          "output_type": "execute_result",
          "data": {
            "text/html": [
              "<div>\n",
              "<style scoped>\n",
              "    .dataframe tbody tr th:only-of-type {\n",
              "        vertical-align: middle;\n",
              "    }\n",
              "\n",
              "    .dataframe tbody tr th {\n",
              "        vertical-align: top;\n",
              "    }\n",
              "\n",
              "    .dataframe thead th {\n",
              "        text-align: right;\n",
              "    }\n",
              "</style>\n",
              "<table border=\"1\" class=\"dataframe\">\n",
              "  <thead>\n",
              "    <tr style=\"text-align: right;\">\n",
              "      <th></th>\n",
              "      <th>moodEncoded</th>\n",
              "      <th>tempoEncoded</th>\n",
              "      <th>genreEncoded</th>\n",
              "      <th>artist_typeEncoded</th>\n",
              "      <th>edadEncoded</th>\n",
              "      <th>durationEncoded</th>\n",
              "      <th>top</th>\n",
              "    </tr>\n",
              "  </thead>\n",
              "  <tbody>\n",
              "    <tr>\n",
              "      <th>0</th>\n",
              "      <td>5.0</td>\n",
              "      <td>2.0</td>\n",
              "      <td>3.0</td>\n",
              "      <td>1.0</td>\n",
              "      <td>1.0</td>\n",
              "      <td>3.0</td>\n",
              "      <td>0.0</td>\n",
              "    </tr>\n",
              "    <tr>\n",
              "      <th>1</th>\n",
              "      <td>6.0</td>\n",
              "      <td>0.0</td>\n",
              "      <td>1.0</td>\n",
              "      <td>3.0</td>\n",
              "      <td>1.0</td>\n",
              "      <td>1.0</td>\n",
              "      <td>0.0</td>\n",
              "    </tr>\n",
              "    <tr>\n",
              "      <th>2</th>\n",
              "      <td>5.0</td>\n",
              "      <td>2.0</td>\n",
              "      <td>1.0</td>\n",
              "      <td>2.0</td>\n",
              "      <td>0.0</td>\n",
              "      <td>6.0</td>\n",
              "      <td>0.0</td>\n",
              "    </tr>\n",
              "    <tr>\n",
              "      <th>3</th>\n",
              "      <td>3.0</td>\n",
              "      <td>2.0</td>\n",
              "      <td>4.0</td>\n",
              "      <td>3.0</td>\n",
              "      <td>3.0</td>\n",
              "      <td>3.0</td>\n",
              "      <td>0.0</td>\n",
              "    </tr>\n",
              "    <tr>\n",
              "      <th>4</th>\n",
              "      <td>5.0</td>\n",
              "      <td>0.0</td>\n",
              "      <td>4.0</td>\n",
              "      <td>2.0</td>\n",
              "      <td>3.0</td>\n",
              "      <td>3.0</td>\n",
              "      <td>0.0</td>\n",
              "    </tr>\n",
              "    <tr>\n",
              "      <th>...</th>\n",
              "      <td>...</td>\n",
              "      <td>...</td>\n",
              "      <td>...</td>\n",
              "      <td>...</td>\n",
              "      <td>...</td>\n",
              "      <td>...</td>\n",
              "      <td>...</td>\n",
              "    </tr>\n",
              "    <tr>\n",
              "      <th>89</th>\n",
              "      <td>6.0</td>\n",
              "      <td>2.0</td>\n",
              "      <td>3.0</td>\n",
              "      <td>2.0</td>\n",
              "      <td>1.0</td>\n",
              "      <td>3.0</td>\n",
              "      <td>1.0</td>\n",
              "    </tr>\n",
              "    <tr>\n",
              "      <th>90</th>\n",
              "      <td>2.0</td>\n",
              "      <td>2.0</td>\n",
              "      <td>4.0</td>\n",
              "      <td>3.0</td>\n",
              "      <td>1.0</td>\n",
              "      <td>3.0</td>\n",
              "      <td>0.0</td>\n",
              "    </tr>\n",
              "    <tr>\n",
              "      <th>91</th>\n",
              "      <td>5.0</td>\n",
              "      <td>0.0</td>\n",
              "      <td>3.0</td>\n",
              "      <td>2.0</td>\n",
              "      <td>0.0</td>\n",
              "      <td>3.0</td>\n",
              "      <td>0.0</td>\n",
              "    </tr>\n",
              "    <tr>\n",
              "      <th>92</th>\n",
              "      <td>6.0</td>\n",
              "      <td>2.0</td>\n",
              "      <td>3.0</td>\n",
              "      <td>2.0</td>\n",
              "      <td>0.0</td>\n",
              "      <td>4.0</td>\n",
              "      <td>1.0</td>\n",
              "    </tr>\n",
              "    <tr>\n",
              "      <th>93</th>\n",
              "      <td>6.0</td>\n",
              "      <td>0.0</td>\n",
              "      <td>4.0</td>\n",
              "      <td>2.0</td>\n",
              "      <td>3.0</td>\n",
              "      <td>3.0</td>\n",
              "      <td>0.0</td>\n",
              "    </tr>\n",
              "  </tbody>\n",
              "</table>\n",
              "<p>94 rows × 7 columns</p>\n",
              "</div>"
            ],
            "text/plain": [
              "    moodEncoded  tempoEncoded  genreEncoded  ...  edadEncoded  durationEncoded  top\n",
              "0           5.0           2.0           3.0  ...          1.0              3.0  0.0\n",
              "1           6.0           0.0           1.0  ...          1.0              1.0  0.0\n",
              "2           5.0           2.0           1.0  ...          0.0              6.0  0.0\n",
              "3           3.0           2.0           4.0  ...          3.0              3.0  0.0\n",
              "4           5.0           0.0           4.0  ...          3.0              3.0  0.0\n",
              "..          ...           ...           ...  ...          ...              ...  ...\n",
              "89          6.0           2.0           3.0  ...          1.0              3.0  1.0\n",
              "90          2.0           2.0           4.0  ...          1.0              3.0  0.0\n",
              "91          5.0           0.0           3.0  ...          0.0              3.0  0.0\n",
              "92          6.0           2.0           3.0  ...          0.0              4.0  1.0\n",
              "93          6.0           0.0           4.0  ...          3.0              3.0  0.0\n",
              "\n",
              "[94 rows x 7 columns]"
            ]
          },
          "metadata": {
            "tags": []
          },
          "execution_count": 107
        }
      ]
    },
    {
      "cell_type": "markdown",
      "metadata": {
        "id": "zw82ptmPXx6Z"
      },
      "source": [
        "CONCLUCIONES "
      ]
    },
    {
      "cell_type": "markdown",
      "metadata": {
        "id": "cbWcsTznXz_L"
      },
      "source": [
        "Pues hemos tenido un largo camino, para poder crear y generar nuestro mejor algoritmo . Hemos revisado los datos de entrada, los hemos procesado, los pasamos a valores categóricos y generamos es provado la eficiencia y la optimizacion de los mismos y por ultimo, Lo hemos puesto a prueba para validarlo.\n",
        "\n",
        "Obtener un score de menos de 65.96% y 70.01% en los algoritmos de SVC y ET  no es un valor muy alto, pero tengamos en cuenta que nos pusimos una tarea bastante difícil de lograr: poder predecir al número 1 del Billboard y con un tamaño de muestras tan pequeño (635 registros) y desbalanceado. Ya quisieran las discográficas poder hacerlo 🙂\n",
        "\n",
        "\n",
        "\n",
        "Link de referencias : \n",
        "\n",
        "1.-Michael Kling: \n",
        "https://mikekling.com/analyzing-the-billboard-hot-100/\n",
        "\n",
        "2.- API de Deezer:\n",
        "https://developers.deezer.com/api\n",
        "\n",
        "3.- BASE DE DATOS DE ULTIMATE MUSIC\n",
        "http://www.umdmusic.com/default.asp?Lang=English&Chart=D"
      ]
    }
  ]
}